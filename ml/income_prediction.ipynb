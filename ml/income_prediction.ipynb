{
 "cells": [
  {
   "cell_type": "code",
   "execution_count": 1,
   "id": "977cc5f1",
   "metadata": {},
   "outputs": [],
   "source": [
    "import os\n",
    "import sys\n",
    "import pandas as pd\n",
    "import numpy as np\n",
    "import matplotlib.pyplot as plt\n",
    "from sklearn.metrics import accuracy_score\n",
    "from sklearn.model_selection import train_test_split\n",
    "from sklearn.model_selection import ShuffleSplit\n",
    "from pandas.plotting import scatter_matrix\n",
    "from sklearn.impute import SimpleImputer\n",
    "from sklearn.preprocessing import OneHotEncoder, LabelEncoder, OrdinalEncoder\n",
    "from sklearn.pipeline import Pipeline\n",
    "from sklearn.preprocessing import StandardScaler, MinMaxScaler\n",
    "from sklearn.base import BaseEstimator, TransformerMixin\n",
    "from sklearn.compose import ColumnTransformer\n",
    "from sklearn.linear_model import LinearRegression\n",
    "from sklearn.metrics import mean_squared_error\n",
    "from sklearn.tree import DecisionTreeRegressor\n",
    "from sklearn.model_selection import cross_val_score, cross_val_predict\n",
    "from sklearn.ensemble import RandomForestRegressor\n",
    "from sklearn.svm import SVC\n",
    "from sklearn.linear_model import SGDClassifier\n",
    "from sklearn.tree import DecisionTreeClassifier\n",
    "from sklearn.ensemble import RandomForestClassifier\n",
    "import seaborn as sb"
   ]
  },
  {
   "cell_type": "code",
   "execution_count": 2,
   "id": "469af07b",
   "metadata": {},
   "outputs": [],
   "source": [
    "class ModifiedLabelEncoder(LabelEncoder):\n",
    "\n",
    "    def fit_transform(self, y, *args, **kwargs):\n",
    "        return super().fit_transform(y).reshape(-1, 1)\n",
    "\n",
    "    def transform(self, y, *args, **kwargs):\n",
    "        return super().transform(y).reshape(-1, 1)"
   ]
  },
  {
   "cell_type": "code",
   "execution_count": 3,
   "id": "ea1b9c23",
   "metadata": {},
   "outputs": [],
   "source": [
    "%matplotlib inline"
   ]
  },
  {
   "cell_type": "code",
   "execution_count": 4,
   "id": "ab5f10e3",
   "metadata": {},
   "outputs": [
    {
     "data": {
      "text/plain": [
       "(6, 7, 15, 13)"
      ]
     },
     "execution_count": 4,
     "metadata": {},
     "output_type": "execute_result"
    }
   ],
   "source": [
    "column_names = ['age', 'workclass', 'fnlwgt', 'education', 'education-num', 'marital-status', 'occupation',\n",
    "                'relationship', 'race', 'sex', 'capital-gain', 'capital-loss', 'hours-per-week', 'native-country',\n",
    "                'class']\n",
    "columns_num = ['age', 'fnlwgt', 'education-num', 'capital-gain', 'capital-loss', 'hours-per-week']\n",
    "columns_cat = ['workclass', 'marital-status', 'occupation', 'relationship', 'race', 'sex', 'native-country'] \n",
    "# dropped education as education-num is present\n",
    "\n",
    "columns_corr_cat = ['marital-status', 'relationship', 'sex']\n",
    "len(columns_num), len(columns_cat), len(column_names), len(columns_num) + len(columns_cat) "
   ]
  },
  {
   "cell_type": "code",
   "execution_count": 5,
   "id": "3757d80f",
   "metadata": {},
   "outputs": [],
   "source": [
    "def load_data(directory, file_name, names=None, header=None, skiprows=0):\n",
    "    return pd.read_csv(os.path.join(directory, file_name), names=names, header=header, skiprows=skiprows, skipinitialspace=True)"
   ]
  },
  {
   "cell_type": "code",
   "execution_count": 6,
   "id": "200babc1",
   "metadata": {},
   "outputs": [],
   "source": [
    "def display_scores(scores):\n",
    "    print(\"Scores:\", scores)\n",
    "    print(\"Mean:\", scores.mean())\n",
    "    print(\"Standard deviation:\", scores.std())"
   ]
  },
  {
   "cell_type": "code",
   "execution_count": 7,
   "id": "ab41a820",
   "metadata": {},
   "outputs": [],
   "source": [
    "def scoring_using_cross_validation(m, x, y, s='accuracy'):\n",
    "    print(\"************* Start of Cross Validation {} {} *************\".format(s, m))\n",
    "    scores_ = cross_val_score(m, x, y, scoring=\"accuracy\", cv=10)\n",
    "    rmse_scores_ = np.sqrt(scores_)\n",
    "    display_scores(rmse_scores_)\n",
    "    print(\"************* End of Cross Validation {} {}*************\".format(s, m))\n",
    "\n",
    "\n",
    "def print_scores(m, Y_test, Y_predictions):\n",
    "    print(\"************* {} *************\".format(m))\n",
    "    mse_ = mean_squared_error(Y_test, Y_predictions)\n",
    "    print(\"mse \", mse_)\n",
    "    acc_ = accuracy_score(Y_test, Y_predictions)\n",
    "    print(\"acc \", acc_)\n",
    "    print(\"****************************************\")\n"
   ]
  },
  {
   "cell_type": "code",
   "execution_count": 8,
   "id": "33366691",
   "metadata": {},
   "outputs": [],
   "source": [
    "base_directory = '~/workspace/personal/datasets/income_predictions'"
   ]
  },
  {
   "cell_type": "code",
   "execution_count": 9,
   "id": "ca4f3925",
   "metadata": {},
   "outputs": [
    {
     "data": {
      "text/plain": [
       "'~/workspace/personal/datasets/income_predictions'"
      ]
     },
     "execution_count": 9,
     "metadata": {},
     "output_type": "execute_result"
    }
   ],
   "source": [
    "base_directory"
   ]
  },
  {
   "cell_type": "code",
   "execution_count": 124,
   "id": "3bbb2455",
   "metadata": {},
   "outputs": [],
   "source": [
    "adult_data_df = load_data(base_directory, 'adult.data', column_names, None, 0)\n",
    "adult_test_df = load_data(base_directory, 'adult.test', names=column_names, skiprows=1)"
   ]
  },
  {
   "cell_type": "code",
   "execution_count": 125,
   "id": "df1196d2",
   "metadata": {},
   "outputs": [],
   "source": [
    "class ColumnDropperTransformer(TransformerMixin, BaseEstimator):\n",
    "    def __init__(self, columns):\n",
    "        self.columns = columns\n",
    "\n",
    "    def transform(self, X, y=None):\n",
    "        return X.drop(self.columns, axis=1)\n",
    "\n",
    "    def fit(self, X, y=None):\n",
    "        return self\n",
    "\n",
    "\n",
    "class ColumnUnknownValueTransformer(TransformerMixin, BaseEstimator):\n",
    "    def __init__(self, columns):\n",
    "        self.columns = columns\n",
    "\n",
    "    def transform(self, X, y=None):\n",
    "        for c in self.columns:\n",
    "            X[c].replace(['?'], 'unknown_{}'.format(c), inplace=True)\n",
    "        return X\n",
    "\n",
    "    def fit(self, X, y=None):\n",
    "        return self\n",
    "\n"
   ]
  },
  {
   "cell_type": "code",
   "execution_count": 126,
   "id": "9306d828",
   "metadata": {},
   "outputs": [],
   "source": [
    "preprocess_pipeline = Pipeline([\n",
    "        ('dropper', ColumnDropperTransformer(['education'])),\n",
    "        ('unknown_value_replacer', ColumnUnknownValueTransformer(['workclass', 'occupation', 'native-country']))\n",
    "    ])\n",
    "\n",
    "adult_data_df = preprocess_pipeline.fit_transform(adult_data_df)\n",
    "adult_test_df = preprocess_pipeline.fit_transform(adult_test_df)"
   ]
  },
  {
   "cell_type": "markdown",
   "id": "6e0f7934",
   "metadata": {},
   "source": [
    "# Correlation matrix between class and num columns"
   ]
  },
  {
   "cell_type": "code",
   "execution_count": 24,
   "id": "58b6ecae",
   "metadata": {},
   "outputs": [
    {
     "name": "stdout",
     "output_type": "stream",
     "text": [
      "(24420, 15) (8141, 15) 32561\n",
      "(32561, 15)\n",
      "0.3333742833742834\n",
      "(24420, 13) 13\n",
      "(24420, 9) 9\n",
      "(24420, 92)\n",
      "(24420, 21)\n",
      "(24420,)\n",
      "(8141, 91)\n",
      "(8141, 21)\n"
     ]
    }
   ],
   "source": [
    "from sklearn.model_selection import ShuffleSplit\n",
    "from sklearn.model_selection import train_test_split\n",
    "\n",
    "\n",
    "# X_train, X_test, y_train, y_test = train_test_split(adult_data_df.drop('class', axis=1), adult_data_df['class'].copy())\n",
    "# train_set = X_train.join(y_train)\n",
    "# test_set = X_test.join(y_test)\n",
    "\n",
    "split = ShuffleSplit(n_splits=20, test_size=0.25, random_state=42)\n",
    "# train_index, test_index = list(split.split(adult_data_df[columns_num]))[0]\n",
    "\n",
    "for train_index, test_index in list(split.split(adult_data_df[columns_num])):\n",
    "    train_set = adult_data_df.loc[train_index]\n",
    "    test_set = adult_data_df.loc[test_index]\n",
    "    \n",
    "print(train_set.shape, test_set.shape, train_set.shape[0] + test_set.shape[0])\n",
    "print(adult_data_df.shape)\n",
    "# print(adult_test_df.shape)\n",
    "print(test_set.shape[0] / train_set.shape[0])\n",
    "\n",
    "X1 = train_set[columns_num].join(train_set[columns_cat])\n",
    "X2 = train_set[columns_num].join(train_set[columns_corr_cat])\n",
    "print(X1.shape, len(columns_num + columns_cat))\n",
    "print(X2.shape, len(columns_num + columns_corr_cat))\n",
    "\n",
    "from sklearn.preprocessing import Normalizer\n",
    "num_pipeline = Pipeline([\n",
    "    ('std_scaler', StandardScaler()),\n",
    "])\n",
    "\n",
    "sparse=True\n",
    "\n",
    "ct1 = ColumnTransformer([\n",
    "    (\"norm2\", num_pipeline, columns_num),\n",
    "    (\"onehot\", OneHotEncoder(), columns_cat)\n",
    "])\n",
    "ct2 = ColumnTransformer([\n",
    "    (\"norm2\", num_pipeline, columns_num),\n",
    "    (\"onehot\", OneHotEncoder(), columns_corr_cat)\n",
    "])\n",
    "X1_prepared = ct1.fit_transform(X1)\n",
    "X2_prepared = ct2.fit_transform(X2)\n",
    "\n",
    "\n",
    "Y_prepared = LabelEncoder().fit_transform(train_set['class'].copy())\n",
    "\n",
    "X1_test = ct1.fit_transform(test_set[columns_num].join(test_set[columns_cat]))\n",
    "X2_test = ct2.fit_transform(test_set[columns_num].join(test_set[columns_corr_cat]))\n",
    "Y_test = LabelEncoder().fit_transform(test_set['class'].copy()) # Y1, Y2 both are same\n",
    "\n",
    "print(X1_prepared.shape)\n",
    "print(X2_prepared.shape)\n",
    "print(Y_prepared.shape)\n",
    "print(X1_test.shape)\n",
    "print(X2_test.shape)"
   ]
  },
  {
   "cell_type": "code",
   "execution_count": 25,
   "id": "c634c3b6",
   "metadata": {},
   "outputs": [],
   "source": [
    "def evaluate(x, y, x_test, y_test):\n",
    "    global sgd, dt, rf\n",
    "    sgd = SGDClassifier()\n",
    "    sgd.fit(x, y)\n",
    "\n",
    "    Y_predictions = sgd.predict(x_test)\n",
    "    print_scores(sgd, y_test, Y_predictions)\n",
    "    scoring_using_cross_validation(sgd, x, y, 'accuracy')\n",
    "    scoring_using_cross_validation(sgd, x, y, 'neg_mean_squared_error')\n",
    "\n",
    "    dt = DecisionTreeClassifier()\n",
    "    dt.fit(x, y)\n",
    "    Y_predictions = dt.predict(x_test)\n",
    "    print_scores(dt, y_test, Y_predictions)\n",
    "    scoring_using_cross_validation(dt, x, y, 'accuracy')\n",
    "    scoring_using_cross_validation(dt, x, y, 'neg_mean_squared_error')\n",
    "\n",
    "    rf = RandomForestClassifier()\n",
    "    rf.fit(x, y)\n",
    "    Y_predictions = rf.predict(x_test)\n",
    "    print_scores(rf, y_test, Y_predictions)\n",
    "    scoring_using_cross_validation(rf, x, y, 'accuracy')\n",
    "    scoring_using_cross_validation(rf, x, y, 'neg_mean_squared_error')"
   ]
  },
  {
   "cell_type": "code",
   "execution_count": 26,
   "id": "469d278a",
   "metadata": {},
   "outputs": [
    {
     "name": "stdout",
     "output_type": "stream",
     "text": [
      "************* SGDClassifier() *************\n",
      "mse  0.1596855423166687\n",
      "acc  0.8403144576833312\n",
      "****************************************\n",
      "************* Start of Cross Validation accuracy SGDClassifier() *************\n",
      "Scores: [0.91979772 0.91309519 0.90904996 0.91689931 0.92224311 0.91868403\n",
      " 0.91264661 0.91354356 0.92290891 0.92091007]\n",
      "Mean: 0.9169778457852307\n",
      "Standard deviation: 0.004446482567048741\n",
      "************* End of Cross Validation accuracy SGDClassifier()*************\n",
      "************* Start of Cross Validation neg_mean_squared_error SGDClassifier() *************\n",
      "Scores: [0.9206877  0.90927517 0.91040037 0.91712259 0.92224311 0.91823817\n",
      " 0.91242223 0.92313073 0.91734581 0.91846113]\n",
      "Mean: 0.9169327015199251\n",
      "Standard deviation: 0.0045455109297786195\n",
      "************* End of Cross Validation neg_mean_squared_error SGDClassifier()*************\n",
      "************* DecisionTreeClassifier() *************\n",
      "mse  0.19334234123572042\n",
      "acc  0.8066576587642795\n",
      "****************************************\n",
      "************* Start of Cross Validation accuracy DecisionTreeClassifier() *************\n",
      "Scores: [0.90362814 0.89451875 0.88992909 0.90045034 0.89862941 0.90498664\n",
      " 0.89543386 0.89634804 0.90204064 0.9040812 ]\n",
      "Mean: 0.8990046109400929\n",
      "Standard deviation: 0.00465486191104455\n",
      "************* End of Cross Validation accuracy DecisionTreeClassifier()*************\n",
      "************* Start of Cross Validation neg_mean_squared_error DecisionTreeClassifier() *************\n",
      "Scores: [0.90294812 0.89360271 0.89268572 0.89543386 0.90317485 0.90317485\n",
      " 0.89566249 0.89840153 0.90294812 0.90204064]\n",
      "Mean: 0.8990072907293246\n",
      "Standard deviation: 0.0041048077272795675\n",
      "************* End of Cross Validation neg_mean_squared_error DecisionTreeClassifier()*************\n",
      "************* RandomForestClassifier() *************\n",
      "mse  0.16447610858616876\n",
      "acc  0.8355238914138312\n",
      "****************************************\n",
      "************* Start of Cross Validation accuracy RandomForestClassifier() *************\n",
      "Scores: [0.91868403 0.91578209 0.91264661 0.92468203 0.91979772 0.91846113\n",
      " 0.91823817 0.92246509 0.91846113 0.91957509]\n",
      "Mean: 0.9188793091713228\n",
      "Standard deviation: 0.003116011188535244\n",
      "************* End of Cross Validation accuracy RandomForestClassifier()*************\n",
      "************* Start of Cross Validation neg_mean_squared_error RandomForestClassifier() *************\n",
      "Scores: [0.91890687 0.91600564 0.9139917  0.92534607 0.92024282 0.91801516\n",
      " 0.91734581 0.91912967 0.92091007 0.9206877 ]\n",
      "Mean: 0.9190581529871267\n",
      "Standard deviation: 0.002933616264312018\n",
      "************* End of Cross Validation neg_mean_squared_error RandomForestClassifier()*************\n"
     ]
    }
   ],
   "source": [
    "evaluate(X2_prepared, Y_prepared, X2_test, Y_test)"
   ]
  },
  {
   "cell_type": "code",
   "execution_count": 44,
   "id": "4aa71145",
   "metadata": {},
   "outputs": [
    {
     "name": "stdout",
     "output_type": "stream",
     "text": [
      "0.7129798903107861 0.5852926463231616 0.6428571428571428\n"
     ]
    }
   ],
   "source": [
    "from sklearn.metrics import precision_score, recall_score, f1_score\n",
    "\n",
    "Y_predictions = sgd.predict(X2_test)\n",
    "print(precision_score(Y_test, Y_predictions), recall_score(Y_test, Y_predictions), \n",
    "      f1_score(Y_test, Y_predictions))"
   ]
  },
  {
   "cell_type": "code",
   "execution_count": 28,
   "id": "d1ca12ac",
   "metadata": {},
   "outputs": [
    {
     "name": "stdout",
     "output_type": "stream",
     "text": [
      "[-2.44689407 -0.92210013  0.40375021 -4.2864253  -2.99950063 -2.40077386\n",
      " -4.90554994 -0.80760358  2.66148875 -1.16560144]\n",
      "[0 0 0 0 0 0 0 1 1 0]\n"
     ]
    }
   ],
   "source": [
    "print(sgd.decision_function(X2_prepared[:10, :]))\n",
    "print(Y_prepared[:10])"
   ]
  },
  {
   "cell_type": "code",
   "execution_count": 60,
   "id": "3e418fe2",
   "metadata": {},
   "outputs": [],
   "source": [
    "def plot_precision_recall_vs_threshold(precisions, recalls, thresholds): \n",
    "    plt.plot(thresholds, precisions[:-1], \"b--\", label=\"Precision\") \n",
    "    plt.plot(thresholds, recalls[:-1], \"g-\", label=\"Recall\")\n",
    "    plt.legend(loc=\"center right\")\n"
   ]
  },
  {
   "cell_type": "code",
   "execution_count": 79,
   "id": "6fa2b358",
   "metadata": {},
   "outputs": [
    {
     "name": "stdout",
     "output_type": "stream",
     "text": [
      "(24266,)\n"
     ]
    },
    {
     "data": {
      "image/png": "[encoded data removed]",
      "text/plain": [
       "<Figure size 432x288 with 1 Axes>"
      ]
     },
     "metadata": {
      "needs_background": "light"
     },
     "output_type": "display_data"
    }
   ],
   "source": [
    "y_scores = cross_val_predict(sgd, X2_prepared, Y_prepared, cv=3, method=\"decision_function\")\n",
    "y_probas_forest = cross_val_predict(rf, X2_prepared, Y_prepared, cv=3, method=\"predict_proba\")\n",
    "\n",
    "from sklearn.metrics import precision_recall_curve\n",
    "precisions, recalls, thresholds = precision_recall_curve(Y_prepared, y_scores)\n",
    "\n",
    "plot_precision_recall_vs_threshold(precisions, recalls, thresholds)\n",
    "plt.show()"
   ]
  },
  {
   "cell_type": "code",
   "execution_count": 77,
   "id": "3efde211",
   "metadata": {},
   "outputs": [
    {
     "data": {
      "image/png": "[encoded data removed]",
      "text/plain": [
       "<Figure size 432x288 with 1 Axes>"
      ]
     },
     "metadata": {
      "needs_background": "light"
     },
     "output_type": "display_data"
    },
    {
     "name": "stdout",
     "output_type": "stream",
     "text": [
      "0.8884325122509649\n"
     ]
    }
   ],
   "source": [
    "from sklearn.metrics import roc_curve, roc_auc_score\n",
    "\n",
    "fpr, tpr, thresholds = roc_curve(Y_prepared, y_scores)\n",
    "y_scores_forest = y_probas_forest[:, 1]\n",
    "fpr_forest, tpr_forest, thresholds_forest = roc_curve(Y_prepared, y_scores_forest)\n",
    "\n",
    "def plot_roc_curve(fpr, tpr, label=None): \n",
    "    plt.plot(fpr, tpr, linewidth=2, label=label) \n",
    "    plt.plot([0, 1], [0, 1], 'k--') # Dashed diagonal [...] # Add axis labels and grid\n",
    "    \n",
    "plot_roc_curve(fpr, tpr)\n",
    "plot_roc_curve(fpr_forest, tpr_forest)\n",
    "\n",
    "plt.show()\n",
    "\n",
    "print(roc_auc_score(Y_prepared, y_scores))"
   ]
  }
 ],
 "metadata": {
  "kernelspec": {
   "display_name": "Python 3 (ipykernel)",
   "language": "python",
   "name": "python3"
  },
  "language_info": {
   "codemirror_mode": {
    "name": "ipython",
    "version": 3
   },
   "file_extension": ".py",
   "mimetype": "text/x-python",
   "name": "python",
   "nbconvert_exporter": "python",
   "pygments_lexer": "ipython3",
   "version": "3.8.9"
  }
 },
 "nbformat": 4,
 "nbformat_minor": 5
}
