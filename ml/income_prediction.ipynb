{
 "cells": [
  {
   "cell_type": "code",
   "execution_count": 15,
   "id": "977cc5f1",
   "metadata": {},
   "outputs": [],
   "source": [
    "import os\n",
    "import sys\n",
    "import pandas as pd\n",
    "import numpy as np\n",
    "import matplotlib.pyplot as plt\n",
    "from sklearn.metrics import accuracy_score\n",
    "from sklearn.metrics import precision_score, recall_score, f1_score\n",
    "from sklearn.model_selection import train_test_split\n",
    "from sklearn.model_selection import ShuffleSplit\n",
    "from pandas.plotting import scatter_matrix\n",
    "from sklearn.impute import SimpleImputer\n",
    "from sklearn.preprocessing import OneHotEncoder, LabelEncoder, OrdinalEncoder\n",
    "from sklearn.pipeline import Pipeline\n",
    "from sklearn.preprocessing import StandardScaler, MinMaxScaler\n",
    "from sklearn.base import BaseEstimator, TransformerMixin\n",
    "from sklearn.compose import ColumnTransformer\n",
    "from sklearn.linear_model import LogisticRegression\n",
    "from sklearn.metrics import mean_squared_error\n",
    "from sklearn.tree import DecisionTreeRegressor\n",
    "from sklearn.model_selection import cross_val_score, cross_val_predict\n",
    "from sklearn.ensemble import RandomForestRegressor\n",
    "from sklearn.svm import SVC\n",
    "from sklearn.linear_model import SGDClassifier\n",
    "from sklearn.tree import DecisionTreeClassifier\n",
    "from sklearn.ensemble import RandomForestClassifier\n",
    "import seaborn as sb"
   ]
  },
  {
   "cell_type": "code",
   "execution_count": 2,
   "id": "469af07b",
   "metadata": {},
   "outputs": [],
   "source": [
    "class ModifiedLabelEncoder(LabelEncoder):\n",
    "\n",
    "    def fit_transform(self, y, *args, **kwargs):\n",
    "        return super().fit_transform(y).reshape(-1, 1)\n",
    "\n",
    "    def transform(self, y, *args, **kwargs):\n",
    "        return super().transform(y).reshape(-1, 1)"
   ]
  },
  {
   "cell_type": "code",
   "execution_count": 3,
   "id": "ea1b9c23",
   "metadata": {},
   "outputs": [],
   "source": [
    "%matplotlib inline"
   ]
  },
  {
   "cell_type": "code",
   "execution_count": 4,
   "id": "ab5f10e3",
   "metadata": {
    "slideshow": {
     "slide_type": "-"
    }
   },
   "outputs": [
    {
     "data": {
      "text/plain": [
       "(6, 7, 15, 13)"
      ]
     },
     "execution_count": 4,
     "metadata": {},
     "output_type": "execute_result"
    }
   ],
   "source": [
    "column_names = ['age', 'workclass', 'fnlwgt', 'education', 'education-num', 'marital-status', 'occupation',\n",
    "                'relationship', 'race', 'sex', 'capital-gain', 'capital-loss', 'hours-per-week', 'native-country',\n",
    "                'class']\n",
    "columns_num = ['age', 'fnlwgt', 'education-num', 'capital-gain', 'capital-loss', 'hours-per-week']\n",
    "columns_cat = ['workclass', 'marital-status', 'occupation', 'relationship', 'race', 'sex', 'native-country'] \n",
    "# dropped education as education-num is present\n",
    "\n",
    "columns_corr_cat = ['marital-status', 'relationship', 'sex']\n",
    "len(columns_num), len(columns_cat), len(column_names), len(columns_num) + len(columns_cat) "
   ]
  },
  {
   "cell_type": "code",
   "execution_count": 5,
   "id": "3757d80f",
   "metadata": {},
   "outputs": [],
   "source": [
    "def load_data(directory, file_name, names=None, header=None, skiprows=0):\n",
    "    return pd.read_csv(os.path.join(directory, file_name), names=names, header=header, skiprows=skiprows, skipinitialspace=True)"
   ]
  },
  {
   "cell_type": "code",
   "execution_count": 6,
   "id": "ab41a820",
   "metadata": {},
   "outputs": [],
   "source": [
    "def using_model(model, scoring, cv):\n",
    "    print(\"****************** {} ******************\".format(model))\n",
    "    if scoring is not None:\n",
    "        scores_ = cross_val_score(model, X_train, Y_train, scoring=scoring, cv=cv)\n",
    "        print(\"scoring={} cv={}\".format(scoring, cv), scores_.mean(), scores_.std())\n",
    "    model.fit(X_train, Y_train)\n",
    "    Y_predict = model.predict(X_test)\n",
    "    print(\"accuracy_score=\", accuracy_score(Y_test, Y_predict))\n",
    "    print(\"precision_score=\", precision_score(Y_test, Y_predict))\n",
    "    print(\"recall_score=\", recall_score(Y_test, Y_predict))"
   ]
  },
  {
   "cell_type": "code",
   "execution_count": 7,
   "id": "33366691",
   "metadata": {},
   "outputs": [],
   "source": [
    "base_directory = '~/workspace/personal/datasets/income_predictions'"
   ]
  },
  {
   "cell_type": "code",
   "execution_count": 8,
   "id": "3bbb2455",
   "metadata": {},
   "outputs": [],
   "source": [
    "adult_data_df = load_data(base_directory, 'adult.data', column_names, None, 0)\n",
    "adult_test_df = load_data(base_directory, 'adult.test', names=column_names, skiprows=1)"
   ]
  },
  {
   "cell_type": "code",
   "execution_count": 9,
   "id": "1b71a056",
   "metadata": {},
   "outputs": [
    {
     "data": {
      "text/html": [
       "<div>\n",
       "<style scoped>\n",
       "    .dataframe tbody tr th:only-of-type {\n",
       "        vertical-align: middle;\n",
       "    }\n",
       "\n",
       "    .dataframe tbody tr th {\n",
       "        vertical-align: top;\n",
       "    }\n",
       "\n",
       "    .dataframe thead th {\n",
       "        text-align: right;\n",
       "    }\n",
       "</style>\n",
       "<table border=\"1\" class=\"dataframe\">\n",
       "  <thead>\n",
       "    <tr style=\"text-align: right;\">\n",
       "      <th></th>\n",
       "      <th>workclass</th>\n",
       "      <th>education</th>\n",
       "      <th>marital-status</th>\n",
       "      <th>occupation</th>\n",
       "      <th>relationship</th>\n",
       "      <th>race</th>\n",
       "      <th>sex</th>\n",
       "      <th>native-country</th>\n",
       "      <th>class</th>\n",
       "    </tr>\n",
       "  </thead>\n",
       "  <tbody>\n",
       "    <tr>\n",
       "      <th>0</th>\n",
       "      <td>State-gov</td>\n",
       "      <td>Bachelors</td>\n",
       "      <td>Never-married</td>\n",
       "      <td>Adm-clerical</td>\n",
       "      <td>Not-in-family</td>\n",
       "      <td>White</td>\n",
       "      <td>Male</td>\n",
       "      <td>United-States</td>\n",
       "      <td>&lt;=50K</td>\n",
       "    </tr>\n",
       "    <tr>\n",
       "      <th>1</th>\n",
       "      <td>Self-emp-not-inc</td>\n",
       "      <td>Bachelors</td>\n",
       "      <td>Married-civ-spouse</td>\n",
       "      <td>Exec-managerial</td>\n",
       "      <td>Husband</td>\n",
       "      <td>White</td>\n",
       "      <td>Male</td>\n",
       "      <td>United-States</td>\n",
       "      <td>&lt;=50K</td>\n",
       "    </tr>\n",
       "    <tr>\n",
       "      <th>2</th>\n",
       "      <td>Private</td>\n",
       "      <td>HS-grad</td>\n",
       "      <td>Divorced</td>\n",
       "      <td>Handlers-cleaners</td>\n",
       "      <td>Not-in-family</td>\n",
       "      <td>White</td>\n",
       "      <td>Male</td>\n",
       "      <td>United-States</td>\n",
       "      <td>&lt;=50K</td>\n",
       "    </tr>\n",
       "    <tr>\n",
       "      <th>3</th>\n",
       "      <td>Private</td>\n",
       "      <td>11th</td>\n",
       "      <td>Married-civ-spouse</td>\n",
       "      <td>Handlers-cleaners</td>\n",
       "      <td>Husband</td>\n",
       "      <td>Black</td>\n",
       "      <td>Male</td>\n",
       "      <td>United-States</td>\n",
       "      <td>&lt;=50K</td>\n",
       "    </tr>\n",
       "    <tr>\n",
       "      <th>4</th>\n",
       "      <td>Private</td>\n",
       "      <td>Bachelors</td>\n",
       "      <td>Married-civ-spouse</td>\n",
       "      <td>Prof-specialty</td>\n",
       "      <td>Wife</td>\n",
       "      <td>Black</td>\n",
       "      <td>Female</td>\n",
       "      <td>Cuba</td>\n",
       "      <td>&lt;=50K</td>\n",
       "    </tr>\n",
       "    <tr>\n",
       "      <th>...</th>\n",
       "      <td>...</td>\n",
       "      <td>...</td>\n",
       "      <td>...</td>\n",
       "      <td>...</td>\n",
       "      <td>...</td>\n",
       "      <td>...</td>\n",
       "      <td>...</td>\n",
       "      <td>...</td>\n",
       "      <td>...</td>\n",
       "    </tr>\n",
       "    <tr>\n",
       "      <th>32556</th>\n",
       "      <td>Private</td>\n",
       "      <td>Assoc-acdm</td>\n",
       "      <td>Married-civ-spouse</td>\n",
       "      <td>Tech-support</td>\n",
       "      <td>Wife</td>\n",
       "      <td>White</td>\n",
       "      <td>Female</td>\n",
       "      <td>United-States</td>\n",
       "      <td>&lt;=50K</td>\n",
       "    </tr>\n",
       "    <tr>\n",
       "      <th>32557</th>\n",
       "      <td>Private</td>\n",
       "      <td>HS-grad</td>\n",
       "      <td>Married-civ-spouse</td>\n",
       "      <td>Machine-op-inspct</td>\n",
       "      <td>Husband</td>\n",
       "      <td>White</td>\n",
       "      <td>Male</td>\n",
       "      <td>United-States</td>\n",
       "      <td>&gt;50K</td>\n",
       "    </tr>\n",
       "    <tr>\n",
       "      <th>32558</th>\n",
       "      <td>Private</td>\n",
       "      <td>HS-grad</td>\n",
       "      <td>Widowed</td>\n",
       "      <td>Adm-clerical</td>\n",
       "      <td>Unmarried</td>\n",
       "      <td>White</td>\n",
       "      <td>Female</td>\n",
       "      <td>United-States</td>\n",
       "      <td>&lt;=50K</td>\n",
       "    </tr>\n",
       "    <tr>\n",
       "      <th>32559</th>\n",
       "      <td>Private</td>\n",
       "      <td>HS-grad</td>\n",
       "      <td>Never-married</td>\n",
       "      <td>Adm-clerical</td>\n",
       "      <td>Own-child</td>\n",
       "      <td>White</td>\n",
       "      <td>Male</td>\n",
       "      <td>United-States</td>\n",
       "      <td>&lt;=50K</td>\n",
       "    </tr>\n",
       "    <tr>\n",
       "      <th>32560</th>\n",
       "      <td>Self-emp-inc</td>\n",
       "      <td>HS-grad</td>\n",
       "      <td>Married-civ-spouse</td>\n",
       "      <td>Exec-managerial</td>\n",
       "      <td>Wife</td>\n",
       "      <td>White</td>\n",
       "      <td>Female</td>\n",
       "      <td>United-States</td>\n",
       "      <td>&gt;50K</td>\n",
       "    </tr>\n",
       "  </tbody>\n",
       "</table>\n",
       "<p>32561 rows × 9 columns</p>\n",
       "</div>"
      ],
      "text/plain": [
       "              workclass   education      marital-status         occupation  \\\n",
       "0             State-gov   Bachelors       Never-married       Adm-clerical   \n",
       "1      Self-emp-not-inc   Bachelors  Married-civ-spouse    Exec-managerial   \n",
       "2               Private     HS-grad            Divorced  Handlers-cleaners   \n",
       "3               Private        11th  Married-civ-spouse  Handlers-cleaners   \n",
       "4               Private   Bachelors  Married-civ-spouse     Prof-specialty   \n",
       "...                 ...         ...                 ...                ...   \n",
       "32556           Private  Assoc-acdm  Married-civ-spouse       Tech-support   \n",
       "32557           Private     HS-grad  Married-civ-spouse  Machine-op-inspct   \n",
       "32558           Private     HS-grad             Widowed       Adm-clerical   \n",
       "32559           Private     HS-grad       Never-married       Adm-clerical   \n",
       "32560      Self-emp-inc     HS-grad  Married-civ-spouse    Exec-managerial   \n",
       "\n",
       "        relationship   race     sex native-country  class  \n",
       "0      Not-in-family  White    Male  United-States  <=50K  \n",
       "1            Husband  White    Male  United-States  <=50K  \n",
       "2      Not-in-family  White    Male  United-States  <=50K  \n",
       "3            Husband  Black    Male  United-States  <=50K  \n",
       "4               Wife  Black  Female           Cuba  <=50K  \n",
       "...              ...    ...     ...            ...    ...  \n",
       "32556           Wife  White  Female  United-States  <=50K  \n",
       "32557        Husband  White    Male  United-States   >50K  \n",
       "32558      Unmarried  White  Female  United-States  <=50K  \n",
       "32559      Own-child  White    Male  United-States  <=50K  \n",
       "32560           Wife  White  Female  United-States   >50K  \n",
       "\n",
       "[32561 rows x 9 columns]"
      ]
     },
     "execution_count": 9,
     "metadata": {},
     "output_type": "execute_result"
    }
   ],
   "source": [
    "adult_data_df.select_dtypes('object')"
   ]
  },
  {
   "cell_type": "code",
   "execution_count": 10,
   "id": "df1196d2",
   "metadata": {},
   "outputs": [],
   "source": [
    "class ColumnDropperTransformer(TransformerMixin, BaseEstimator):\n",
    "    def __init__(self, columns):\n",
    "        self.columns = columns\n",
    "\n",
    "    def transform(self, X, y=None):\n",
    "        return X.drop(self.columns, axis=1)\n",
    "\n",
    "    def fit(self, X, y=None):\n",
    "        return self\n",
    "\n",
    "\n",
    "class ColumnUnknownValueTransformer(TransformerMixin, BaseEstimator):\n",
    "    def __init__(self, columns):\n",
    "        self.columns = columns\n",
    "\n",
    "    def transform(self, X, y=None):\n",
    "        for c in self.columns:\n",
    "            X[c].replace(['?'], 'unknown_{}'.format(c), inplace=True)\n",
    "        return X\n",
    "\n",
    "    def fit(self, X, y=None):\n",
    "        return self\n",
    "\n"
   ]
  },
  {
   "cell_type": "code",
   "execution_count": 11,
   "id": "9306d828",
   "metadata": {},
   "outputs": [],
   "source": [
    "preprocess_pipeline = Pipeline([\n",
    "        ('dropper', ColumnDropperTransformer(['education'])),\n",
    "        ('unknown_value_replacer', ColumnUnknownValueTransformer(['workclass', 'occupation', 'native-country']))\n",
    "    ])\n",
    "\n",
    "num_pipeline = Pipeline([\n",
    "        ('std_scaler', StandardScaler()),\n",
    "    ])\n",
    "\n",
    "one_hot_encoder = OneHotEncoder(handle_unknown='ignore')\n",
    "ct = ColumnTransformer(transformers=[\n",
    "    (\"norm2\", num_pipeline, columns_num),\n",
    "    ('onehot', one_hot_encoder, columns_cat)\n",
    "])\n",
    "    \n",
    "X_train = adult_data_df.drop(labels='class', axis=1)\n",
    "Y_train = adult_data_df['class']\n",
    "\n",
    "X_test = adult_test_df.drop(labels='class', axis=1)\n",
    "Y_test = adult_test_df['class'].apply(lambda x: x.replace('.', ''))\n",
    "\n",
    "label_encoder = LabelEncoder()\n",
    "label_encoder.fit(Y_train)\n",
    "X_train = ct.fit_transform(X_train)\n",
    "Y_train = label_encoder.transform(Y_train)\n",
    "\n",
    "X_test = ct.transform(X_test)\n",
    "Y_test = label_encoder.transform(Y_test.apply(lambda x: x.replace('.', '')))"
   ]
  },
  {
   "cell_type": "code",
   "execution_count": 12,
   "id": "fef6d7b4",
   "metadata": {},
   "outputs": [
    {
     "name": "stdout",
     "output_type": "stream",
     "text": [
      "****************** SGDClassifier() ******************\n",
      "scoring=accuracy cv=10 0.8475477312520603 0.004499878516152031\n",
      "accuracy_score= 0.8453411952582766\n",
      "precision_score= 0.6734587251828631\n",
      "recall_score= 0.6703068122724909\n"
     ]
    }
   ],
   "source": [
    "using_model(SGDClassifier(), \"accuracy\", 10)"
   ]
  },
  {
   "cell_type": "code",
   "execution_count": 13,
   "id": "7e8dce1a",
   "metadata": {},
   "outputs": [
    {
     "name": "stdout",
     "output_type": "stream",
     "text": [
      "****************** RandomForestClassifier() ******************\n",
      "scoring=accuracy cv=10 0.8555022672769065 0.005605468598139749\n",
      "accuracy_score= 0.8514219028315214\n",
      "precision_score= 0.7235976183014728\n",
      "recall_score= 0.6003640145605824\n"
     ]
    }
   ],
   "source": [
    "using_model(RandomForestClassifier(), \"accuracy\", 10)"
   ]
  },
  {
   "cell_type": "code",
   "execution_count": 16,
   "id": "6281046d",
   "metadata": {},
   "outputs": [
    {
     "name": "stdout",
     "output_type": "stream",
     "text": [
      "****************** LogisticRegression(max_iter=500, solver='newton-cg') ******************\n",
      "scoring=neg_mean_squared_error cv=10 -0.14809123083225018 0.004578315099411212\n",
      "accuracy_score= 0.8530802776242246\n",
      "precision_score= 0.7296272899557802\n",
      "recall_score= 0.6006240249609984\n",
      "****************** LogisticRegression(max_iter=500, solver='newton-cg') ******************\n",
      "scoring=accuracy cv=10 0.8519087691677498 0.004578315099411194\n",
      "accuracy_score= 0.8530802776242246\n",
      "precision_score= 0.7296272899557802\n",
      "recall_score= 0.6006240249609984\n"
     ]
    }
   ],
   "source": [
    "lg_newton_cg = LogisticRegression(max_iter=500, solver='newton-cg')\n",
    "using_model(lg_newton_cg, \"neg_mean_squared_error\", 10)\n",
    "using_model(lg_newton_cg, \"accuracy\", 10)"
   ]
  },
  {
   "cell_type": "code",
   "execution_count": 17,
   "id": "b573c628",
   "metadata": {},
   "outputs": [
    {
     "name": "stdout",
     "output_type": "stream",
     "text": [
      "****************** LogisticRegression(max_iter=1000) ******************\n",
      "scoring=neg_mean_squared_error cv=10 -0.14812194336296272 0.004585036870064261\n",
      "accuracy_score= 0.8530802776242246\n",
      "precision_score= 0.7296272899557802\n",
      "recall_score= 0.6006240249609984\n",
      "****************** LogisticRegression(max_iter=1000) ******************\n",
      "scoring=accuracy cv=10 0.8518780566370372 0.004585036870064243\n",
      "accuracy_score= 0.8530802776242246\n",
      "precision_score= 0.7296272899557802\n",
      "recall_score= 0.6006240249609984\n"
     ]
    }
   ],
   "source": [
    "lg_lgbfs = LogisticRegression(max_iter=1000)\n",
    "using_model(lg_lgbfs, \"neg_mean_squared_error\", 10)\n",
    "using_model(lg_lgbfs, \"accuracy\", 10)"
   ]
  },
  {
   "cell_type": "code",
   "execution_count": 18,
   "id": "489a75f4",
   "metadata": {},
   "outputs": [
    {
     "name": "stdout",
     "output_type": "stream",
     "text": [
      "****************** DecisionTreeClassifier() ******************\n",
      "scoring=neg_mean_squared_error cv=10 -0.18073746283755496 0.007470983026698642\n",
      "accuracy_score= 0.8119894355383576\n",
      "precision_score= 0.5987421383647799\n",
      "recall_score= 0.6188247529901196\n",
      "****************** DecisionTreeClassifier() ******************\n",
      "scoring=accuracy cv=10 0.8182492405320161 0.010116677919342355\n",
      "accuracy_score= 0.8125422271359253\n",
      "precision_score= 0.5996485943775101\n",
      "recall_score= 0.6211648465938637\n"
     ]
    }
   ],
   "source": [
    "using_model(DecisionTreeClassifier(), \"neg_mean_squared_error\", 10)\n",
    "using_model(DecisionTreeClassifier(), \"accuracy\", 10)"
   ]
  }
 ],
 "metadata": {
  "kernelspec": {
   "display_name": "Python 3 (ipykernel)",
   "language": "python",
   "name": "python3"
  },
  "language_info": {
   "codemirror_mode": {
    "name": "ipython",
    "version": 3
   },
   "file_extension": ".py",
   "mimetype": "text/x-python",
   "name": "python",
   "nbconvert_exporter": "python",
   "pygments_lexer": "ipython3",
   "version": "3.8.9"
  }
 },
 "nbformat": 4,
 "nbformat_minor": 5
}
