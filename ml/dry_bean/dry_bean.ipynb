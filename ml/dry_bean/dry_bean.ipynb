{
 "cells": [
  {
   "cell_type": "code",
   "execution_count": 1,
   "id": "7dc760f3",
   "metadata": {},
   "outputs": [],
   "source": [
    "import os\n",
    "import sys\n",
    "import pandas as pd\n",
    "import numpy as np\n",
    "import matplotlib.pyplot as plt\n",
    "from sklearn.metrics import accuracy_score\n",
    "from sklearn.metrics import precision_score, recall_score, f1_score\n",
    "from sklearn.model_selection import train_test_split\n",
    "from sklearn.model_selection import ShuffleSplit\n",
    "from pandas.plotting import scatter_matrix\n",
    "from sklearn.impute import SimpleImputer\n",
    "from sklearn.preprocessing import OneHotEncoder, LabelEncoder, OrdinalEncoder\n",
    "from sklearn.pipeline import Pipeline\n",
    "from sklearn.preprocessing import StandardScaler, MinMaxScaler\n",
    "from sklearn.base import BaseEstimator, TransformerMixin\n",
    "from sklearn.compose import ColumnTransformer\n",
    "from sklearn.linear_model import LogisticRegression\n",
    "from sklearn.metrics import mean_squared_error\n",
    "from sklearn.tree import DecisionTreeRegressor\n",
    "from sklearn.model_selection import cross_val_score, cross_val_predict\n",
    "from sklearn.ensemble import RandomForestRegressor\n",
    "from sklearn.svm import SVC\n",
    "from sklearn.linear_model import SGDClassifier\n",
    "from sklearn.tree import DecisionTreeClassifier\n",
    "from sklearn.ensemble import RandomForestClassifier\n",
    "import seaborn as sb\n",
    "from sklearn.ensemble import AdaBoostClassifier\n",
    "from sklearn.multiclass import OneVsRestClassifier\n",
    "from sklearn.svm import LinearSVC\n",
    "\n",
    "%matplotlib inline"
   ]
  },
  {
   "cell_type": "code",
   "execution_count": 2,
   "id": "0eb941f0",
   "metadata": {},
   "outputs": [],
   "source": [
    "def load_data(directory, file_name, names=None, header=None, skiprows=0):\n",
    "    return pd.read_excel(os.path.join(directory, file_name), names=names, header=header, skiprows=skiprows, skipinitialspace=True)"
   ]
  },
  {
   "cell_type": "code",
   "execution_count": 3,
   "id": "1c300911",
   "metadata": {},
   "outputs": [],
   "source": [
    "def load_csv_data(directory, file_name, names=None, header=None, skiprows=0, skipinitialspace=True):\n",
    "    return pd.read_csv(os.path.join(directory, file_name), names=names, header=header, skiprows=skiprows, skipinitialspace=skipinitialspace)"
   ]
  },
  {
   "cell_type": "code",
   "execution_count": 4,
   "id": "70ab6f8e",
   "metadata": {},
   "outputs": [],
   "source": [
    "def using_model(model, scoring, cv):\n",
    "    print(\"****************** {} ******************\".format(model))\n",
    "    if scoring is not None:\n",
    "        scores_ = cross_val_score(model, X_train, Y_train, scoring=scoring, cv=cv)\n",
    "        print(\"scoring={} cv={}\".format(scoring, cv), scores_.mean(), scores_.std())\n",
    "    model.fit(X_train, Y_train)\n",
    "    Y_predict = model.predict(X_test)\n",
    "    print(\"accuracy_score=\", accuracy_score(Y_test, Y_predict))\n",
    "    print(\"precision_score=\", precision_score(Y_test, Y_predict, average='micro'))\n",
    "    print(\"recall_score=\", recall_score(Y_test, Y_predict, average='micro'))"
   ]
  },
  {
   "cell_type": "code",
   "execution_count": 5,
   "id": "d1c0930c",
   "metadata": {},
   "outputs": [],
   "source": [
    "def confusion_matrix(model, X_train, Y_train):\n",
    "    from sklearn.metrics import confusion_matrix\n",
    "\n",
    "    y_scores_ = cross_val_predict(model, X_train, Y_train, cv=3, method=\"decision_function\")\n",
    "    model.fit(X_train, Y_train)\n",
    "    Y_predict = model.predict(X_train)\n",
    "    conf_mx = confusion_matrix(Y_train, Y_predict)\n",
    "    plt.matshow(conf_mx, cmap=plt.cm.gray)\n",
    "#     print(\"accuracy_score=\", accuracy_score(Y_train, Y_predict))\n",
    "#     print(\"precision_score=\", precision_score(Y_train, Y_predict))\n",
    "#     print(\"recall_score=\", recall_score(Y_train, Y_predict))\n",
    "    print(lb.classes_)\n",
    "    print(lb.transform(lb.classes_))\n",
    "    print(conf_mx)\n",
    "    row_sums = conf_mx.sum(axis=1, keepdims=True)\n",
    "    norm_conf_mx = conf_mx / row_sums\n",
    "\n",
    "    np.fill_diagonal(norm_conf_mx, 0)\n",
    "    plt.matshow(norm_conf_mx, cmap=plt.cm.gray)"
   ]
  },
  {
   "cell_type": "code",
   "execution_count": 6,
   "id": "c99fec44",
   "metadata": {},
   "outputs": [],
   "source": [
    "base_directory = '~/workspace/personal/datasets/DryBeanDataset'\n",
    "\n",
    "columns = ['Area', 'Perimeter', 'MajorAxisLength', 'MinorAxisLength', 'AspectRation', 'Eccentricity', \n",
    "           'ConvexArea', 'EquivDiameter', 'Extent', 'Solidity', 'roundness', 'Compactness', 'ShapeFactor1',\n",
    "           'ShapeFactor2', 'ShapeFactor3', 'ShapeFactor4']\n"
   ]
  },
  {
   "cell_type": "code",
   "execution_count": 7,
   "id": "b0cc4457",
   "metadata": {
    "scrolled": true
   },
   "outputs": [
    {
     "name": "stdout",
     "output_type": "stream",
     "text": [
      "['Area', 'Perimeter', 'MajorAxisLength', 'MinorAxisLength', 'AspectRation', 'Eccentricity', 'ConvexArea', 'EquivDiameter', 'Extent', 'Solidity', 'roundness', 'Compactness', 'ShapeFactor1', 'ShapeFactor2', 'ShapeFactor3', 'ShapeFactor4', 'Class']\n",
      "['SEKER' 'BARBUNYA' 'BOMBAY' 'CALI' 'HOROZ' 'SIRA' 'DERMASON']\n"
     ]
    }
   ],
   "source": [
    "dry_bean_df = pd.read_excel(os.path.join(base_directory, 'Dry_Bean_Dataset.xlsx'))\n",
    "print(list(dry_bean_df))\n",
    "\n",
    "print(dry_bean_df['Class'].unique())"
   ]
  },
  {
   "cell_type": "code",
   "execution_count": 8,
   "id": "504eda81",
   "metadata": {},
   "outputs": [
    {
     "data": {
      "text/plain": [
       "array([0., 1., 2., 3., 4., 5., 6.])"
      ]
     },
     "execution_count": 8,
     "metadata": {},
     "output_type": "execute_result"
    }
   ],
   "source": [
    "result = OrdinalEncoder().fit_transform(dry_bean_df[['Class']])\n",
    "np.unique(result)"
   ]
  },
  {
   "cell_type": "code",
   "execution_count": 9,
   "id": "7e3914ab",
   "metadata": {
    "scrolled": false
   },
   "outputs": [],
   "source": [
    "# plt.scatter(dry_bean_df['Area'], dry_bean_df['Perimeter'], alpha=0.5, c=)\n",
    "# plt.show()\n",
    "\n",
    "\n",
    "#dry_bean_df.plot(kind='scatter', x='Perimeter', y='EquivDiameter', alpha=0.2, c=result, figsize=(30,15))"
   ]
  },
  {
   "cell_type": "code",
   "execution_count": 10,
   "id": "10073c2a",
   "metadata": {
    "scrolled": true
   },
   "outputs": [],
   "source": [
    "# pd.plotting.scatter_matrix(dry_bean_df.drop(\n",
    "#     ['Class', 'AspectRation', 'Eccentricity', 'Compactness', 'MinorAxisLength', 'EquivDiameter', 'ConvexArea', 'Perimeter'],\n",
    "#     axis=1), alpha=0.2, figsize=(40, 80), c=result)"
   ]
  },
  {
   "cell_type": "code",
   "execution_count": 11,
   "id": "02316866",
   "metadata": {},
   "outputs": [],
   "source": [
    "dry_bean_df = dry_bean_df.drop(['AspectRation', 'Eccentricity', 'Compactness', 'MinorAxisLength', 'EquivDiameter', 'ConvexArea', 'Perimeter'],\n",
    "                 axis=1)"
   ]
  },
  {
   "cell_type": "code",
   "execution_count": 12,
   "id": "8f90f34b",
   "metadata": {},
   "outputs": [],
   "source": [
    "from sklearn.model_selection import StratifiedShuffleSplit\n",
    "\n",
    "split = StratifiedShuffleSplit(n_splits=1, test_size=0.2, random_state=42) \n",
    "\n",
    "for train_index, test_index in split.split(dry_bean_df, dry_bean_df[\"Class\"]):\n",
    "        train_set = dry_bean_df.loc[train_index]\n",
    "        test_set = dry_bean_df.loc[test_index]"
   ]
  },
  {
   "cell_type": "code",
   "execution_count": 13,
   "id": "35471665",
   "metadata": {
    "scrolled": true
   },
   "outputs": [],
   "source": [
    "num_pipeline = Pipeline([\n",
    "        ('std_scaler', StandardScaler()),\n",
    "    ])\n",
    "\n",
    "ct = ColumnTransformer([\n",
    "        (\"norm2\", num_pipeline, list(dry_bean_df.drop(['Class'], axis=1)))\n",
    "])\n",
    "\n",
    "lb = LabelEncoder()\n",
    "\n",
    "X_train_set = train_set.drop(['Class'], axis=1)\n",
    "Y_train_set = train_set['Class'].copy()\n",
    "\n",
    "X_test_set = test_set.drop(['Class'], axis=1)\n",
    "Y_test_set = test_set['Class'].copy()\n",
    "\n",
    "X_train = ct.fit_transform(X_train_set)\n",
    "Y_train = lb.fit_transform(Y_train_set)\n",
    "\n",
    "X_test = ct.fit_transform(X_test_set)\n",
    "Y_test = lb.fit_transform(Y_test_set)"
   ]
  },
  {
   "cell_type": "code",
   "execution_count": 49,
   "id": "0f2aa386",
   "metadata": {},
   "outputs": [],
   "source": [
    "m = LogisticRegression(max_iter=500, multi_class=\"multinomial\").fit(X_train, Y_train)"
   ]
  },
  {
   "cell_type": "code",
   "execution_count": 56,
   "id": "89714b67",
   "metadata": {},
   "outputs": [],
   "source": [
    "y1 = m.predict(X_test)"
   ]
  },
  {
   "cell_type": "code",
   "execution_count": 58,
   "id": "c0710dbb",
   "metadata": {},
   "outputs": [
    {
     "data": {
      "text/plain": [
       "2723"
      ]
     },
     "execution_count": 58,
     "metadata": {},
     "output_type": "execute_result"
    }
   ],
   "source": [
    "(y1 == Y_test).size"
   ]
  },
  {
   "cell_type": "code",
   "execution_count": 59,
   "id": "a50d0248",
   "metadata": {},
   "outputs": [
    {
     "data": {
      "text/plain": [
       "2723"
      ]
     },
     "execution_count": 59,
     "metadata": {},
     "output_type": "execute_result"
    }
   ],
   "source": [
    "(y1 != Y_test).size"
   ]
  },
  {
   "cell_type": "code",
   "execution_count": 62,
   "id": "45acfe60",
   "metadata": {},
   "outputs": [
    {
     "data": {
      "text/plain": [
       "1980"
      ]
     },
     "execution_count": 62,
     "metadata": {},
     "output_type": "execute_result"
    }
   ],
   "source": [
    "X_test[y1 != Y_test].size"
   ]
  },
  {
   "cell_type": "markdown",
   "id": "d8fa72c7",
   "metadata": {},
   "source": [
    "### Cross Validate with decision function"
   ]
  },
  {
   "cell_type": "code",
   "execution_count": 14,
   "id": "8becf655",
   "metadata": {
    "scrolled": false
   },
   "outputs": [
    {
     "name": "stdout",
     "output_type": "stream",
     "text": [
      "['BARBUNYA' 'BOMBAY' 'CALI' 'DERMASON' 'HOROZ' 'SEKER' 'SIRA']\n",
      "[0 1 2 3 4 5 6]\n",
      "[[ 962    0   56    0    4    6   29]\n",
      " [   0  418    0    0    0    0    0]\n",
      " [  35    0 1233    0   21    1   14]\n",
      " [   2    0    0 2604    5   43  183]\n",
      " [   2    0   23   13 1476    0   28]\n",
      " [  13    0    1   21    0 1535   51]\n",
      " [   4    0    5  180   40   30 1850]]\n"
     ]
    },
    {
     "data": {
      "image/png": "[encoded data removed]",
      "text/plain": [
       "<Figure size 480x480 with 1 Axes>"
      ]
     },
     "metadata": {},
     "output_type": "display_data"
    },
    {
     "data": {
      "image/png": "[encoded data removed]",
      "text/plain": [
       "<Figure size 480x480 with 1 Axes>"
      ]
     },
     "metadata": {},
     "output_type": "display_data"
    }
   ],
   "source": [
    "confusion_matrix(LogisticRegression(max_iter=500, multi_class=\"multinomial\"), X_train, Y_train)"
   ]
  },
  {
   "cell_type": "code",
   "execution_count": 15,
   "id": "e20d93cf",
   "metadata": {
    "scrolled": true
   },
   "outputs": [
    {
     "name": "stdout",
     "output_type": "stream",
     "text": [
      "****************** LogisticRegression(max_iter=500, multi_class='multinomial') ******************\n",
      "scoring=accuracy cv=10 0.9251479534651326 0.00676592173407716\n",
      "accuracy_score= 0.9192067572530297\n",
      "precision_score= 0.9192067572530297\n",
      "recall_score= 0.9192067572530297\n"
     ]
    }
   ],
   "source": [
    "using_model(LogisticRegression(max_iter=500, multi_class=\"multinomial\"), 'accuracy', cv=10)"
   ]
  },
  {
   "cell_type": "code",
   "execution_count": 22,
   "id": "98de49bc",
   "metadata": {},
   "outputs": [
    {
     "name": "stdout",
     "output_type": "stream",
     "text": [
      "****************** DecisionTreeClassifier() ******************\n",
      "accuracy_score= 0.8957032684539111\n",
      "precision_score= 0.8957032684539111\n",
      "recall_score= 0.8957032684539111\n"
     ]
    }
   ],
   "source": [
    "using_model(DecisionTreeClassifier(), None, cv=10)\n",
    "\n",
    "#confusion_matrix(SGDClassifier(), X_train, Y_train)"
   ]
  },
  {
   "cell_type": "code",
   "execution_count": 44,
   "id": "42ae3df6",
   "metadata": {},
   "outputs": [
    {
     "name": "stdout",
     "output_type": "stream",
     "text": [
      "****************** DecisionTreeClassifier(max_features='sqrt') ******************\n",
      "accuracy_score= 0.8879911861917004\n",
      "precision_score= 0.8879911861917004\n",
      "recall_score= 0.8879911861917004\n"
     ]
    }
   ],
   "source": [
    "using_model(DecisionTreeClassifier(max_features='sqrt', splitter='best'), None, cv=10)"
   ]
  },
  {
   "cell_type": "code",
   "execution_count": null,
   "id": "338c8d03",
   "metadata": {},
   "outputs": [],
   "source": [
    "using_model(RandomForestClassifier(), None, cv=10)"
   ]
  },
  {
   "cell_type": "code",
   "execution_count": null,
   "id": "98257deb",
   "metadata": {},
   "outputs": [],
   "source": [
    "using_model(SGDClassifier(), None, cv=10)"
   ]
  },
  {
   "cell_type": "code",
   "execution_count": null,
   "id": "6f37607e",
   "metadata": {},
   "outputs": [],
   "source": [
    "from sklearn.neighbors import KNeighborsClassifier\n",
    "\n",
    "using_model(KNeighborsClassifier(), None, 10)"
   ]
  },
  {
   "cell_type": "code",
   "execution_count": 65,
   "id": "1b9fb433",
   "metadata": {
    "scrolled": true
   },
   "outputs": [
    {
     "name": "stdout",
     "output_type": "stream",
     "text": [
      "****************** OneVsRestClassifier(estimator=SVC()) ******************\n",
      "accuracy_score= 0.927653323540213\n",
      "precision_score= 0.927653323540213\n",
      "recall_score= 0.927653323540213\n"
     ]
    }
   ],
   "source": [
    "ovr = OneVsRestClassifier(SVC())\n",
    "\n",
    "using_model(ovr, None, 10)"
   ]
  },
  {
   "cell_type": "code",
   "execution_count": null,
   "id": "ad26a286",
   "metadata": {},
   "outputs": [],
   "source": []
  },
  {
   "cell_type": "code",
   "execution_count": null,
   "id": "4713c1f8",
   "metadata": {},
   "outputs": [],
   "source": [
    "using_model(AdaBoostClassifier(), None, 10)"
   ]
  },
  {
   "cell_type": "code",
   "execution_count": 63,
   "id": "58a2c0a5",
   "metadata": {},
   "outputs": [
    {
     "name": "stdout",
     "output_type": "stream",
     "text": [
      "****************** AdaBoostClassifier(estimator=DecisionTreeClassifier(max_depth=15),\n",
      "                   learning_rate=0.3, n_estimators=225) ******************\n",
      "accuracy_score= 0.9272860815277267\n",
      "precision_score= 0.9272860815277267\n",
      "recall_score= 0.9272860815277267\n"
     ]
    }
   ],
   "source": [
    "a = AdaBoostClassifier(DecisionTreeClassifier(max_depth=15), n_estimators=225, \n",
    "                       algorithm=\"SAMME.R\", learning_rate=0.3)\n",
    "using_model(a, None, 10)"
   ]
  },
  {
   "cell_type": "code",
   "execution_count": 64,
   "id": "5d17d9b8",
   "metadata": {},
   "outputs": [
    {
     "name": "stdout",
     "output_type": "stream",
     "text": [
      "****************** AdaBoostClassifier(estimator=LogisticRegression(max_iter=500,\n",
      "                                                multi_class='multinomial'),\n",
      "                   learning_rate=0.3, n_estimators=225) ******************\n",
      "accuracy_score= 0.8446566287183254\n",
      "precision_score= 0.8446566287183254\n",
      "recall_score= 0.8446566287183254\n"
     ]
    }
   ],
   "source": [
    "\n",
    "a1 = AdaBoostClassifier(LogisticRegression(max_iter=500, multi_class=\"multinomial\"),\n",
    "                        n_estimators=225, algorithm=\"SAMME.R\", learning_rate=0.3)\n",
    "using_model(a1, None, 10)"
   ]
  },
  {
   "cell_type": "code",
   "execution_count": 66,
   "id": "98f28b26",
   "metadata": {},
   "outputs": [
    {
     "name": "stdout",
     "output_type": "stream",
     "text": [
      "****************** AdaBoostClassifier(estimator=OneVsRestClassifier(estimator=SVC()),\n",
      "                   learning_rate=0.3, n_estimators=225) ******************\n"
     ]
    },
    {
     "ename": "TypeError",
     "evalue": "AdaBoostClassifier with algorithm='SAMME.R' requires that the weak learner supports the calculation of class probabilities with a predict_proba method.\nPlease change the base estimator or set algorithm='SAMME' instead.",
     "output_type": "error",
     "traceback": [
      "\u001b[0;31m---------------------------------------------------------------------------\u001b[0m",
      "\u001b[0;31mTypeError\u001b[0m                                 Traceback (most recent call last)",
      "Cell \u001b[0;32mIn[66], line 3\u001b[0m\n\u001b[1;32m      1\u001b[0m a2 \u001b[38;5;241m=\u001b[39m AdaBoostClassifier(ovr,\n\u001b[1;32m      2\u001b[0m                         n_estimators\u001b[38;5;241m=\u001b[39m\u001b[38;5;241m225\u001b[39m, algorithm\u001b[38;5;241m=\u001b[39m\u001b[38;5;124m\"\u001b[39m\u001b[38;5;124mSAMME.R\u001b[39m\u001b[38;5;124m\"\u001b[39m, learning_rate\u001b[38;5;241m=\u001b[39m\u001b[38;5;241m0.3\u001b[39m)\n\u001b[0;32m----> 3\u001b[0m \u001b[43musing_model\u001b[49m\u001b[43m(\u001b[49m\u001b[43ma2\u001b[49m\u001b[43m,\u001b[49m\u001b[43m \u001b[49m\u001b[38;5;28;43;01mNone\u001b[39;49;00m\u001b[43m,\u001b[49m\u001b[43m \u001b[49m\u001b[38;5;241;43m10\u001b[39;49m\u001b[43m)\u001b[49m\n",
      "Cell \u001b[0;32mIn[4], line 6\u001b[0m, in \u001b[0;36musing_model\u001b[0;34m(model, scoring, cv)\u001b[0m\n\u001b[1;32m      4\u001b[0m     scores_ \u001b[38;5;241m=\u001b[39m cross_val_score(model, X_train, Y_train, scoring\u001b[38;5;241m=\u001b[39mscoring, cv\u001b[38;5;241m=\u001b[39mcv)\n\u001b[1;32m      5\u001b[0m     \u001b[38;5;28mprint\u001b[39m(\u001b[38;5;124m\"\u001b[39m\u001b[38;5;124mscoring=\u001b[39m\u001b[38;5;132;01m{}\u001b[39;00m\u001b[38;5;124m cv=\u001b[39m\u001b[38;5;132;01m{}\u001b[39;00m\u001b[38;5;124m\"\u001b[39m\u001b[38;5;241m.\u001b[39mformat(scoring, cv), scores_\u001b[38;5;241m.\u001b[39mmean(), scores_\u001b[38;5;241m.\u001b[39mstd())\n\u001b[0;32m----> 6\u001b[0m \u001b[43mmodel\u001b[49m\u001b[38;5;241;43m.\u001b[39;49m\u001b[43mfit\u001b[49m\u001b[43m(\u001b[49m\u001b[43mX_train\u001b[49m\u001b[43m,\u001b[49m\u001b[43m \u001b[49m\u001b[43mY_train\u001b[49m\u001b[43m)\u001b[49m\n\u001b[1;32m      7\u001b[0m Y_predict \u001b[38;5;241m=\u001b[39m model\u001b[38;5;241m.\u001b[39mpredict(X_test)\n\u001b[1;32m      8\u001b[0m \u001b[38;5;28mprint\u001b[39m(\u001b[38;5;124m\"\u001b[39m\u001b[38;5;124maccuracy_score=\u001b[39m\u001b[38;5;124m\"\u001b[39m, accuracy_score(Y_test, Y_predict))\n",
      "File \u001b[0;32m~/workspace/personal/venv/lib/python3.9/site-packages/sklearn/ensemble/_weight_boosting.py:142\u001b[0m, in \u001b[0;36mBaseWeightBoosting.fit\u001b[0;34m(self, X, y, sample_weight)\u001b[0m\n\u001b[1;32m    139\u001b[0m sample_weight \u001b[38;5;241m/\u001b[39m\u001b[38;5;241m=\u001b[39m sample_weight\u001b[38;5;241m.\u001b[39msum()\n\u001b[1;32m    141\u001b[0m \u001b[38;5;66;03m# Check parameters\u001b[39;00m\n\u001b[0;32m--> 142\u001b[0m \u001b[38;5;28;43mself\u001b[39;49m\u001b[38;5;241;43m.\u001b[39;49m\u001b[43m_validate_estimator\u001b[49m\u001b[43m(\u001b[49m\u001b[43m)\u001b[49m\n\u001b[1;32m    144\u001b[0m \u001b[38;5;66;03m# Clear any previous fit results\u001b[39;00m\n\u001b[1;32m    145\u001b[0m \u001b[38;5;28mself\u001b[39m\u001b[38;5;241m.\u001b[39mestimators_ \u001b[38;5;241m=\u001b[39m []\n",
      "File \u001b[0;32m~/workspace/personal/venv/lib/python3.9/site-packages/sklearn/ensemble/_weight_boosting.py:517\u001b[0m, in \u001b[0;36mAdaBoostClassifier._validate_estimator\u001b[0;34m(self)\u001b[0m\n\u001b[1;32m    515\u001b[0m \u001b[38;5;28;01mif\u001b[39;00m \u001b[38;5;28mself\u001b[39m\u001b[38;5;241m.\u001b[39malgorithm \u001b[38;5;241m==\u001b[39m \u001b[38;5;124m\"\u001b[39m\u001b[38;5;124mSAMME.R\u001b[39m\u001b[38;5;124m\"\u001b[39m:\n\u001b[1;32m    516\u001b[0m     \u001b[38;5;28;01mif\u001b[39;00m \u001b[38;5;129;01mnot\u001b[39;00m \u001b[38;5;28mhasattr\u001b[39m(\u001b[38;5;28mself\u001b[39m\u001b[38;5;241m.\u001b[39mestimator_, \u001b[38;5;124m\"\u001b[39m\u001b[38;5;124mpredict_proba\u001b[39m\u001b[38;5;124m\"\u001b[39m):\n\u001b[0;32m--> 517\u001b[0m         \u001b[38;5;28;01mraise\u001b[39;00m \u001b[38;5;167;01mTypeError\u001b[39;00m(\n\u001b[1;32m    518\u001b[0m             \u001b[38;5;124m\"\u001b[39m\u001b[38;5;124mAdaBoostClassifier with algorithm=\u001b[39m\u001b[38;5;124m'\u001b[39m\u001b[38;5;124mSAMME.R\u001b[39m\u001b[38;5;124m'\u001b[39m\u001b[38;5;124m requires \u001b[39m\u001b[38;5;124m\"\u001b[39m\n\u001b[1;32m    519\u001b[0m             \u001b[38;5;124m\"\u001b[39m\u001b[38;5;124mthat the weak learner supports the calculation of class \u001b[39m\u001b[38;5;124m\"\u001b[39m\n\u001b[1;32m    520\u001b[0m             \u001b[38;5;124m\"\u001b[39m\u001b[38;5;124mprobabilities with a predict_proba method.\u001b[39m\u001b[38;5;130;01m\\n\u001b[39;00m\u001b[38;5;124m\"\u001b[39m\n\u001b[1;32m    521\u001b[0m             \u001b[38;5;124m\"\u001b[39m\u001b[38;5;124mPlease change the base estimator or set \u001b[39m\u001b[38;5;124m\"\u001b[39m\n\u001b[1;32m    522\u001b[0m             \u001b[38;5;124m\"\u001b[39m\u001b[38;5;124malgorithm=\u001b[39m\u001b[38;5;124m'\u001b[39m\u001b[38;5;124mSAMME\u001b[39m\u001b[38;5;124m'\u001b[39m\u001b[38;5;124m instead.\u001b[39m\u001b[38;5;124m\"\u001b[39m\n\u001b[1;32m    523\u001b[0m         )\n\u001b[1;32m    524\u001b[0m \u001b[38;5;28;01mif\u001b[39;00m \u001b[38;5;129;01mnot\u001b[39;00m has_fit_parameter(\u001b[38;5;28mself\u001b[39m\u001b[38;5;241m.\u001b[39mestimator_, \u001b[38;5;124m\"\u001b[39m\u001b[38;5;124msample_weight\u001b[39m\u001b[38;5;124m\"\u001b[39m):\n\u001b[1;32m    525\u001b[0m     \u001b[38;5;28;01mraise\u001b[39;00m \u001b[38;5;167;01mValueError\u001b[39;00m(\n\u001b[1;32m    526\u001b[0m         \u001b[38;5;124mf\u001b[39m\u001b[38;5;124m\"\u001b[39m\u001b[38;5;132;01m{\u001b[39;00m\u001b[38;5;28mself\u001b[39m\u001b[38;5;241m.\u001b[39mestimator\u001b[38;5;241m.\u001b[39m\u001b[38;5;18m__class__\u001b[39m\u001b[38;5;241m.\u001b[39m\u001b[38;5;18m__name__\u001b[39m\u001b[38;5;132;01m}\u001b[39;00m\u001b[38;5;124m doesn\u001b[39m\u001b[38;5;124m'\u001b[39m\u001b[38;5;124mt support sample_weight.\u001b[39m\u001b[38;5;124m\"\u001b[39m\n\u001b[1;32m    527\u001b[0m     )\n",
      "\u001b[0;31mTypeError\u001b[0m: AdaBoostClassifier with algorithm='SAMME.R' requires that the weak learner supports the calculation of class probabilities with a predict_proba method.\nPlease change the base estimator or set algorithm='SAMME' instead."
     ]
    }
   ],
   "source": [
    "a2 = AdaBoostClassifier(ovr,\n",
    "                        n_estimators=225, algorithm=\"SAMME.R\", learning_rate=0.3)\n",
    "using_model(a2, None, 10)\n"
   ]
  }
 ],
 "metadata": {
  "kernelspec": {
   "display_name": "Python 3 (ipykernel)",
   "language": "python",
   "name": "python3"
  },
  "language_info": {
   "codemirror_mode": {
    "name": "ipython",
    "version": 3
   },
   "file_extension": ".py",
   "mimetype": "text/x-python",
   "name": "python",
   "nbconvert_exporter": "python",
   "pygments_lexer": "ipython3",
   "version": "3.9.6"
  }
 },
 "nbformat": 4,
 "nbformat_minor": 5
}
