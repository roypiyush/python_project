{
 "cells": [
  {
   "cell_type": "code",
   "execution_count": 1,
   "id": "7dc760f3",
   "metadata": {},
   "outputs": [],
   "source": [
    "import os\n",
    "import sys\n",
    "import pandas as pd\n",
    "import numpy as np\n",
    "import matplotlib.pyplot as plt\n",
    "from sklearn.metrics import accuracy_score\n",
    "from sklearn.model_selection import train_test_split\n",
    "from sklearn.model_selection import ShuffleSplit\n",
    "from pandas.plotting import scatter_matrix\n",
    "from sklearn.impute import SimpleImputer\n",
    "from sklearn.preprocessing import OneHotEncoder, LabelEncoder, OrdinalEncoder\n",
    "from sklearn.pipeline import Pipeline\n",
    "from sklearn.preprocessing import StandardScaler, MinMaxScaler\n",
    "from sklearn.base import BaseEstimator, TransformerMixin\n",
    "from sklearn.compose import ColumnTransformer\n",
    "from sklearn.linear_model import LinearRegression\n",
    "from sklearn.metrics import mean_squared_error\n",
    "from sklearn.tree import DecisionTreeRegressor\n",
    "from sklearn.model_selection import cross_val_score, cross_val_predict\n",
    "from sklearn.ensemble import RandomForestRegressor\n",
    "from sklearn.svm import SVC\n",
    "from sklearn.linear_model import SGDClassifier\n",
    "from sklearn.tree import DecisionTreeClassifier\n",
    "from sklearn.ensemble import RandomForestClassifier\n",
    "import seaborn as sb\n",
    "from sklearn.metrics import precision_score, recall_score, f1_score"
   ]
  },
  {
   "cell_type": "code",
   "execution_count": 2,
   "id": "0eb941f0",
   "metadata": {},
   "outputs": [],
   "source": [
    "def load_data(directory, file_name, names=None, header=None, skiprows=0):\n",
    "    return pd.read_excel(os.path.join(directory, file_name), names=names, header=header, skiprows=skiprows, skipinitialspace=True)"
   ]
  },
  {
   "cell_type": "code",
   "execution_count": 3,
   "id": "1c300911",
   "metadata": {},
   "outputs": [],
   "source": [
    "def load_csv_data(directory, file_name, names=None, header=None, skiprows=0, skipinitialspace=True):\n",
    "    return pd.read_csv(os.path.join(directory, file_name), names=names, header=header, skiprows=skiprows, skipinitialspace=skipinitialspace)"
   ]
  },
  {
   "cell_type": "code",
   "execution_count": 4,
   "id": "70ab6f8e",
   "metadata": {},
   "outputs": [],
   "source": [
    "def display_scores(scores):\n",
    "    print(\"Scores:\", scores)\n",
    "    print(\"Mean:\", scores.mean())\n",
    "    print(\"Standard deviation:\", scores.std())"
   ]
  },
  {
   "cell_type": "code",
   "execution_count": 5,
   "id": "f40cf83a",
   "metadata": {},
   "outputs": [],
   "source": [
    "def scoring_using_cross_validation(m, x, y, s='accuracy'):\n",
    "    print(\"************* Start of Cross Validation {} {} *************\".format(s, m))\n",
    "    scores_ = cross_val_score(m, x, y, scoring=\"accuracy\", cv=10)\n",
    "    rmse_scores_ = np.sqrt(scores_)\n",
    "    display_scores(rmse_scores_)\n",
    "    print(\"************* End of Cross Validation {} {}*************\".format(s, m))\n",
    "\n",
    "\n",
    "def print_scores(m, Y_test, Y_predictions):\n",
    "    print(\"************* {} *************\".format(m))\n",
    "    mse_ = mean_squared_error(Y_test, Y_predictions)\n",
    "    print(\"mse \", mse_)\n",
    "    acc_ = accuracy_score(Y_test, Y_predictions)\n",
    "    print(\"acc \", acc_)\n",
    "    print(\"****************************************\")\n"
   ]
  },
  {
   "cell_type": "code",
   "execution_count": 6,
   "id": "c99fec44",
   "metadata": {},
   "outputs": [],
   "source": [
    "base_directory = '~/workspace/personal/datasets/DryBeanDataset'\n",
    "\n",
    "columns = ['Area', 'Perimeter', 'MajorAxisLength', 'MinorAxisLength', 'AspectRation', 'Eccentricity', \n",
    "           'ConvexArea', 'EquivDiameter', 'Extent', 'Solidity', 'roundness', 'Compactness', 'ShapeFactor1',\n",
    "           'ShapeFactor2', 'ShapeFactor3', 'ShapeFactor4']\n"
   ]
  },
  {
   "cell_type": "code",
   "execution_count": 7,
   "id": "b0cc4457",
   "metadata": {},
   "outputs": [
    {
     "name": "stdout",
     "output_type": "stream",
     "text": [
      "['Area', 'Perimeter', 'MajorAxisLength', 'MinorAxisLength', 'AspectRation', 'Eccentricity', 'ConvexArea', 'EquivDiameter', 'Extent', 'Solidity', 'roundness', 'Compactness', 'ShapeFactor1', 'ShapeFactor2', 'ShapeFactor3', 'ShapeFactor4', 'Class']\n"
     ]
    }
   ],
   "source": [
    "dry_bean_df = pd.read_excel(os.path.join(base_directory, 'Dry_Bean_Dataset.xlsx'))\n",
    "print(list(dry_bean_df))"
   ]
  },
  {
   "cell_type": "code",
   "execution_count": 8,
   "id": "4f26f26c",
   "metadata": {},
   "outputs": [],
   "source": [
    "split = ShuffleSplit(test_size=0.20, random_state=1)\n",
    "train_index, test_index = list(split.split(dry_bean_df[columns]))[0]"
   ]
  },
  {
   "cell_type": "code",
   "execution_count": 9,
   "id": "35471665",
   "metadata": {
    "scrolled": true
   },
   "outputs": [],
   "source": [
    "num_pipeline = Pipeline([\n",
    "        ('std_scaler', StandardScaler()),\n",
    "    ])\n",
    "\n",
    "ct = ColumnTransformer([\n",
    "        (\"norm2\", num_pipeline, columns)\n",
    "], remainder='passthrough')\n",
    "\n",
    "lb = LabelEncoder()\n",
    "\n",
    "X_train_set = dry_bean_df.loc[train_index].drop(['Class'], axis=1)\n",
    "X_test_set = dry_bean_df.loc[test_index].drop(['Class'], axis=1)\n",
    "\n",
    "Y_train_set = dry_bean_df['Class'].copy().loc[train_index]\n",
    "Y_test_set = dry_bean_df['Class'].copy().loc[test_index]"
   ]
  },
  {
   "cell_type": "code",
   "execution_count": 10,
   "id": "c953def5",
   "metadata": {},
   "outputs": [],
   "source": [
    "X_train = ct.fit_transform(X_train_set)\n",
    "Y_train = lb.fit_transform(Y_train_set)\n",
    "\n",
    "X_test = ct.transform(X_train_set)\n",
    "Y_test = lb.transform(Y_train_set)"
   ]
  },
  {
   "cell_type": "code",
   "execution_count": 11,
   "id": "5c74d2fd",
   "metadata": {},
   "outputs": [],
   "source": [
    "def evaluate_model(model):\n",
    "    Y_predictions = model.predict(X_test)\n",
    "    precision_ = precision_score(Y_test, Y_predictions, average='weighted')\n",
    "    print(\"precision_ \", precision_)\n",
    "    recall_ = recall_score(Y_test, Y_predictions, average='weighted')\n",
    "    print(\"recall_ \", recall_)\n",
    "    f1_score_ = f1_score(Y_test, Y_predictions, average='weighted')\n",
    "    print(\"f1_score_ \", f1_score_)\n",
    "    if hasattr(model, 'decision_function'):\n",
    "        scores_ = model.decision_function(X_test[:5, :])\n",
    "        print(\"Decision Function Results {}\".format(scores_))\n",
    "        print(lb.inverse_transform(Y_test[:5]))\n",
    "    return Y_predictions\n"
   ]
  },
  {
   "cell_type": "code",
   "execution_count": 12,
   "id": "1ad3e568",
   "metadata": {},
   "outputs": [
    {
     "name": "stdout",
     "output_type": "stream",
     "text": [
      "precision_  0.9177138955383257\n",
      "recall_  0.9168809698750918\n",
      "f1_score_  0.9170035465379269\n",
      "Decision Function Results [[   3.45907469 -115.92511136   -5.21566056  -15.47407751   -2.97047927\n",
      "    -6.55434262   -5.17651643]\n",
      " [  -5.68815358 -174.2136629    -8.03771542    0.45840623   -7.00562391\n",
      "    -3.65578351   -0.47254339]\n",
      " [  -7.30795696 -179.32381461  -10.47930844    0.95271579   -9.52274048\n",
      "    -3.80118078   -2.35564641]\n",
      " [   3.64560046  -53.67396456   -4.29178736  -23.61265358  -13.9598705\n",
      "    -9.68891206  -16.59601367]\n",
      " [  -2.61011405 -115.89189173    0.58489063  -13.54242175   -2.78312171\n",
      "   -10.86760874   -2.83125769]]\n",
      "['BARBUNYA' 'SIRA' 'SIRA' 'BARBUNYA' 'CALI']\n"
     ]
    }
   ],
   "source": [
    "sgd_clf = SGDClassifier()\n",
    "sgd_clf.fit(X_train, Y_train)\n",
    "Y_predictions = evaluate_model(sgd_clf)"
   ]
  },
  {
   "cell_type": "markdown",
   "id": "d8fa72c7",
   "metadata": {},
   "source": [
    "### Cross Validate with decision function"
   ]
  },
  {
   "cell_type": "code",
   "execution_count": 13,
   "id": "8becf655",
   "metadata": {},
   "outputs": [
    {
     "name": "stdout",
     "output_type": "stream",
     "text": [
      "['BARBUNYA' 'BOMBAY' 'CALI' 'DERMASON' 'HOROZ' 'SEKER' 'SIRA']\n",
      "[0 1 2 3 4 5 6]\n",
      "[[ 967    0   42    0    4    7   32]\n",
      " [   1  418    0    0    0    0    0]\n",
      " [  56    0 1170    0   32    2   37]\n",
      " [   1    0    0 2669    3   34  134]\n",
      " [   8    0   10   18 1454    0   52]\n",
      " [  17    0    0   39    0 1510   56]\n",
      " [   9    0    1  263   30   17 1795]]\n"
     ]
    },
    {
     "data": {
      "text/plain": [
       "<matplotlib.image.AxesImage at 0x13449dbb0>"
      ]
     },
     "execution_count": 13,
     "metadata": {},
     "output_type": "execute_result"
    },
    {
     "data": {
      "image/png": "[encoded data removed]",
      "text/plain": [
       "<Figure size 288x288 with 1 Axes>"
      ]
     },
     "metadata": {
      "needs_background": "light"
     },
     "output_type": "display_data"
    },
    {
     "data": {
      "image/png": "[encoded data removed]",
      "text/plain": [
       "<Figure size 288x288 with 1 Axes>"
      ]
     },
     "metadata": {
      "needs_background": "light"
     },
     "output_type": "display_data"
    }
   ],
   "source": [
    "from sklearn.metrics import confusion_matrix\n",
    "\n",
    "y_scores_ = cross_val_predict(sgd_clf, X_train, Y_train, cv=3, method=\"decision_function\")\n",
    "conf_mx = confusion_matrix(Y_train, Y_predictions)\n",
    "plt.matshow(conf_mx, cmap=plt.cm.gray)\n",
    "print(lb.classes_)\n",
    "print(lb.transform(lb.classes_))\n",
    "print(conf_mx)\n",
    "row_sums = conf_mx.sum(axis=1, keepdims=True)\n",
    "norm_conf_mx = conf_mx / row_sums\n",
    "\n",
    "np.fill_diagonal(norm_conf_mx, 0)\n",
    "plt.matshow(norm_conf_mx, cmap=plt.cm.gray)"
   ]
  },
  {
   "cell_type": "code",
   "execution_count": 14,
   "id": "9a95be3f",
   "metadata": {},
   "outputs": [
    {
     "name": "stdout",
     "output_type": "stream",
     "text": [
      "precision_  1.0\n",
      "recall_  1.0\n",
      "f1_score_  1.0\n"
     ]
    }
   ],
   "source": [
    "dt_clf = DecisionTreeClassifier()\n",
    "dt_clf.fit(X_train, Y_train)\n",
    "Y_predictions = evaluate_model(dt_clf)"
   ]
  },
  {
   "cell_type": "code",
   "execution_count": 15,
   "id": "0c7fb27d",
   "metadata": {},
   "outputs": [
    {
     "ename": "NameError",
     "evalue": "name 'test_data_set' is not defined",
     "output_type": "error",
     "traceback": [
      "\u001b[0;31m---------------------------------------------------------------------------\u001b[0m",
      "\u001b[0;31mNameError\u001b[0m                                 Traceback (most recent call last)",
      "Input \u001b[0;32mIn [15]\u001b[0m, in \u001b[0;36m<cell line: 1>\u001b[0;34m()\u001b[0m\n\u001b[0;32m----> 1\u001b[0m X_test \u001b[38;5;241m=\u001b[39m ct\u001b[38;5;241m.\u001b[39mfit_transform(\u001b[43mtest_data_set\u001b[49m\u001b[38;5;241m.\u001b[39mdrop([\u001b[38;5;124m\"\u001b[39m\u001b[38;5;124mClass\u001b[39m\u001b[38;5;124m\"\u001b[39m], axis\u001b[38;5;241m=\u001b[39m\u001b[38;5;241m1\u001b[39m))\n\u001b[1;32m      2\u001b[0m Y_test \u001b[38;5;241m=\u001b[39m lb\u001b[38;5;241m.\u001b[39mtransform(test_data_set[\u001b[38;5;124m\"\u001b[39m\u001b[38;5;124mClass\u001b[39m\u001b[38;5;124m\"\u001b[39m]\u001b[38;5;241m.\u001b[39mcopy())\n",
      "\u001b[0;31mNameError\u001b[0m: name 'test_data_set' is not defined"
     ]
    }
   ],
   "source": [
    "X_test = ct.fit_transform(test_data_set.drop([\"Class\"], axis=1))\n",
    "Y_test = lb.transform(test_data_set[\"Class\"].copy())"
   ]
  },
  {
   "cell_type": "code",
   "execution_count": null,
   "id": "de7056e4",
   "metadata": {
    "scrolled": false
   },
   "outputs": [],
   "source": [
    "Y_predictions = dt_clf.predict(X_test)\n",
    "evaluate_model(dt_clf)\n",
    "conf_mx = confusion_matrix(Y_test, Y_predictions)\n",
    "plt.matshow(conf_mx, cmap=plt.cm.gray)\n",
    "print(lb.classes_)\n",
    "print(lb.transform(lb.classes_))\n",
    "print(conf_mx)\n",
    "row_sums = conf_mx.sum(axis=1, keepdims=True)\n",
    "norm_conf_mx = conf_mx / row_sums\n",
    "\n",
    "np.fill_diagonal(norm_conf_mx, 0)\n",
    "plt.matshow(norm_conf_mx, cmap=plt.cm.gray)"
   ]
  },
  {
   "cell_type": "code",
   "execution_count": null,
   "id": "357e9e2d",
   "metadata": {
    "scrolled": true
   },
   "outputs": [],
   "source": [
    "rf_clf = RandomForestClassifier()\n",
    "rf_clf.fit(X_train, Y_train)\n",
    "Y_predictions = evaluate_model(rf_clf)\n",
    "\n",
    "Y_predictions = dt_clf.predict(X_test)\n",
    "evaluate_model(dt_clf)\n",
    "conf_mx = confusion_matrix(Y_test, Y_predictions)\n",
    "plt.matshow(conf_mx, cmap=plt.cm.gray)\n",
    "print(lb.classes_)\n",
    "print(lb.transform(lb.classes_))\n",
    "print(conf_mx)\n",
    "row_sums = conf_mx.sum(axis=1, keepdims=True)\n",
    "norm_conf_mx = conf_mx / row_sums\n",
    "\n",
    "np.fill_diagonal(norm_conf_mx, 0)\n",
    "plt.matshow(norm_conf_mx, cmap=plt.cm.gray)"
   ]
  }
 ],
 "metadata": {
  "kernelspec": {
   "display_name": "Python 3 (ipykernel)",
   "language": "python",
   "name": "python3"
  },
  "language_info": {
   "codemirror_mode": {
    "name": "ipython",
    "version": 3
   },
   "file_extension": ".py",
   "mimetype": "text/x-python",
   "name": "python",
   "nbconvert_exporter": "python",
   "pygments_lexer": "ipython3",
   "version": "3.8.9"
  }
 },
 "nbformat": 4,
 "nbformat_minor": 5
}
