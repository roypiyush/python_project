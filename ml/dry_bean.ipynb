{
 "cells": [
  {
   "cell_type": "code",
   "execution_count": 103,
   "id": "7dc760f3",
   "metadata": {},
   "outputs": [],
   "source": [
    "import os\n",
    "import sys\n",
    "import pandas as pd\n",
    "import numpy as np\n",
    "import matplotlib.pyplot as plt\n",
    "from sklearn.metrics import accuracy_score\n",
    "from sklearn.model_selection import train_test_split\n",
    "from sklearn.model_selection import ShuffleSplit\n",
    "from pandas.plotting import scatter_matrix\n",
    "from sklearn.impute import SimpleImputer\n",
    "from sklearn.preprocessing import OneHotEncoder, LabelEncoder, OrdinalEncoder\n",
    "from sklearn.pipeline import Pipeline\n",
    "from sklearn.preprocessing import StandardScaler, MinMaxScaler\n",
    "from sklearn.base import BaseEstimator, TransformerMixin\n",
    "from sklearn.compose import ColumnTransformer\n",
    "from sklearn.linear_model import LinearRegression\n",
    "from sklearn.metrics import mean_squared_error\n",
    "from sklearn.tree import DecisionTreeRegressor\n",
    "from sklearn.model_selection import cross_val_score, cross_val_predict\n",
    "from sklearn.ensemble import RandomForestRegressor\n",
    "from sklearn.svm import SVC\n",
    "from sklearn.linear_model import SGDClassifier\n",
    "from sklearn.tree import DecisionTreeClassifier\n",
    "from sklearn.ensemble import RandomForestClassifier\n",
    "import seaborn as sb\n",
    "from sklearn.metrics import precision_score, recall_score, f1_score"
   ]
  },
  {
   "cell_type": "code",
   "execution_count": 2,
   "id": "0eb941f0",
   "metadata": {},
   "outputs": [],
   "source": [
    "def load_data(directory, file_name, names=None, header=None, skiprows=0):\n",
    "    return pd.read_excel(os.path.join(directory, file_name), names=names, header=header, skiprows=skiprows, skipinitialspace=True)"
   ]
  },
  {
   "cell_type": "code",
   "execution_count": 124,
   "id": "1c300911",
   "metadata": {},
   "outputs": [],
   "source": [
    "def load_csv_data(directory, file_name, names=None, header=None, skiprows=0, skipinitialspace=True):\n",
    "    return pd.read_csv(os.path.join(directory, file_name), names=names, header=header, skiprows=skiprows, skipinitialspace=skipinitialspace)"
   ]
  },
  {
   "cell_type": "code",
   "execution_count": 3,
   "id": "70ab6f8e",
   "metadata": {},
   "outputs": [],
   "source": [
    "def display_scores(scores):\n",
    "    print(\"Scores:\", scores)\n",
    "    print(\"Mean:\", scores.mean())\n",
    "    print(\"Standard deviation:\", scores.std())"
   ]
  },
  {
   "cell_type": "code",
   "execution_count": 4,
   "id": "f40cf83a",
   "metadata": {},
   "outputs": [],
   "source": [
    "def scoring_using_cross_validation(m, x, y, s='accuracy'):\n",
    "    print(\"************* Start of Cross Validation {} {} *************\".format(s, m))\n",
    "    scores_ = cross_val_score(m, x, y, scoring=\"accuracy\", cv=10)\n",
    "    rmse_scores_ = np.sqrt(scores_)\n",
    "    display_scores(rmse_scores_)\n",
    "    print(\"************* End of Cross Validation {} {}*************\".format(s, m))\n",
    "\n",
    "\n",
    "def print_scores(m, Y_test, Y_predictions):\n",
    "    print(\"************* {} *************\".format(m))\n",
    "    mse_ = mean_squared_error(Y_test, Y_predictions)\n",
    "    print(\"mse \", mse_)\n",
    "    acc_ = accuracy_score(Y_test, Y_predictions)\n",
    "    print(\"acc \", acc_)\n",
    "    print(\"****************************************\")\n"
   ]
  },
  {
   "cell_type": "code",
   "execution_count": 19,
   "id": "c99fec44",
   "metadata": {},
   "outputs": [],
   "source": [
    "base_directory = '~/workspace/personal/datasets/DryBeanDataset'\n",
    "\n",
    "columns = ['Area', 'Perimeter', 'MajorAxisLength', 'MinorAxisLength', 'AspectRation', 'Eccentricity', \n",
    "           'ConvexArea', 'EquivDiameter', 'Extent', 'Solidity', 'roundness', 'Compactness', 'ShapeFactor1',\n",
    "           'ShapeFactor2', 'ShapeFactor3', 'ShapeFactor4']\n"
   ]
  },
  {
   "cell_type": "code",
   "execution_count": 17,
   "id": "b0cc4457",
   "metadata": {},
   "outputs": [
    {
     "name": "stdout",
     "output_type": "stream",
     "text": [
      "['Area', 'Perimeter', 'MajorAxisLength', 'MinorAxisLength', 'AspectRation', 'Eccentricity', 'ConvexArea', 'EquivDiameter', 'Extent', 'Solidity', 'roundness', 'Compactness', 'ShapeFactor1', 'ShapeFactor2', 'ShapeFactor3', 'ShapeFactor4', 'Class']\n"
     ]
    }
   ],
   "source": [
    "dry_bean_df = pd.read_excel(os.path.join(base_directory, 'Dry_Bean_Dataset.xlsx'))\n",
    "print(list(dry_bean_df))"
   ]
  },
  {
   "cell_type": "code",
   "execution_count": 20,
   "id": "4f26f26c",
   "metadata": {},
   "outputs": [],
   "source": [
    "split = ShuffleSplit(test_size=0.20, random_state=1)\n",
    "train_index, test_index = list(split.split(dry_bean_df[columns]))[0]"
   ]
  },
  {
   "cell_type": "code",
   "execution_count": 27,
   "id": "35471665",
   "metadata": {
    "scrolled": true
   },
   "outputs": [],
   "source": [
    "num_pipeline = Pipeline([\n",
    "        ('std_scaler', StandardScaler()),\n",
    "    ])\n",
    "\n",
    "ct = ColumnTransformer([\n",
    "        (\"norm2\", num_pipeline, columns)\n",
    "], remainder='passthrough')\n",
    "\n",
    "lb = LabelEncoder()\n",
    "\n",
    "X_train_set = dry_bean_df.loc[train_index].drop(['Class'], axis=1)\n",
    "X_test_set = dry_bean_df.loc[test_index].drop(['Class'], axis=1)\n",
    "\n",
    "Y_train_set = dry_bean_df['Class'].copy().loc[train_index]\n",
    "Y_test_set = dry_bean_df['Class'].copy().loc[test_index]"
   ]
  },
  {
   "cell_type": "code",
   "execution_count": 28,
   "id": "c953def5",
   "metadata": {},
   "outputs": [],
   "source": [
    "X_train = ct.fit_transform(X_train_set)\n",
    "Y_train = lb.fit_transform(Y_train_set)\n",
    "\n",
    "X_test = ct.transform(X_train_set)\n",
    "Y_test = lb.transform(Y_train_set)"
   ]
  },
  {
   "cell_type": "code",
   "execution_count": 82,
   "id": "5c74d2fd",
   "metadata": {},
   "outputs": [],
   "source": [
    "def evaluate_model(model):\n",
    "    Y_predictions = model.predict(X_test)\n",
    "    precision_ = precision_score(Y_test, Y_predictions, average='weighted')\n",
    "    print(\"precision_ \", precision_)\n",
    "    recall_ = recall_score(Y_test, Y_predictions, average='weighted')\n",
    "    print(\"recall_ \", recall_)\n",
    "    f1_score_ = f1_score(Y_test, Y_predictions, average='weighted')\n",
    "    print(\"f1_score_ \", f1_score_)\n",
    "    if hasattr(model, 'decision_function'):\n",
    "        scores_ = model.decision_function(X_test[:5, :])\n",
    "        print(\"Decision Function Results {}\".format(scores_))\n",
    "        print(lb.inverse_transform(Y_test[:5]))\n",
    "    return Y_predictions\n"
   ]
  },
  {
   "cell_type": "code",
   "execution_count": 104,
   "id": "1ad3e568",
   "metadata": {},
   "outputs": [
    {
     "name": "stdout",
     "output_type": "stream",
     "text": [
      "precision_  0.9150990475154602\n",
      "recall_  0.9137582659808964\n",
      "f1_score_  0.9137069347280099\n",
      "Decision Function Results [[   0.35935994  -77.1057229    -4.75110586  -16.15256736   -2.32458458\n",
      "    -8.50768778   -4.80458148]\n",
      " [  -5.41709825 -112.17509678   -9.61533756    0.37852355   -7.54384867\n",
      "    -3.23584812   -0.42928032]\n",
      " [  -7.04701634 -116.10686166  -13.36605446    1.3608991    -9.85650559\n",
      "    -3.22416227   -2.41552107]\n",
      " [   2.04234109  -35.78549791   -3.6892864   -24.17449555  -13.39119097\n",
      "   -10.695282    -15.58729535]\n",
      " [  -4.98795816  -75.31283029    1.36382221  -13.79755781   -2.27776958\n",
      "   -12.81564564   -2.80736263]]\n",
      "['BARBUNYA' 'SIRA' 'SIRA' 'BARBUNYA' 'CALI']\n"
     ]
    }
   ],
   "source": [
    "sgd_clf = SGDClassifier()\n",
    "sgd_clf.fit(X_train, Y_train)\n",
    "Y_predictions = evaluate_model(sgd_clf)"
   ]
  },
  {
   "cell_type": "markdown",
   "id": "d8fa72c7",
   "metadata": {},
   "source": [
    "### Cross Validate with decision function"
   ]
  },
  {
   "cell_type": "code",
   "execution_count": 106,
   "id": "8becf655",
   "metadata": {},
   "outputs": [
    {
     "name": "stdout",
     "output_type": "stream",
     "text": [
      "['BARBUNYA' 'BOMBAY' 'CALI' 'DERMASON' 'HOROZ' 'SEKER' 'SIRA']\n",
      "[0 1 2 3 4 5 6]\n",
      "[[ 873    0  104    0    5    8   62]\n",
      " [   1  418    0    0    0    0    0]\n",
      " [   7    0 1236    0   16    2   36]\n",
      " [   1    0    0 2633    4   61  142]\n",
      " [   1    0   29   17 1446    0   49]\n",
      " [  12    0    0   20    1 1540   49]\n",
      " [   2    0    5  240   26   39 1803]]\n"
     ]
    },
    {
     "data": {
      "text/plain": [
       "<matplotlib.image.AxesImage at 0x13885d1f0>"
      ]
     },
     "execution_count": 106,
     "metadata": {},
     "output_type": "execute_result"
    },
    {
     "data": {
      "image/png": "[encoded data removed]",
      "text/plain": [
       "<Figure size 288x288 with 1 Axes>"
      ]
     },
     "metadata": {
      "needs_background": "light"
     },
     "output_type": "display_data"
    },
    {
     "data": {
      "image/png": "[encoded data removed]",
      "text/plain": [
       "<Figure size 288x288 with 1 Axes>"
      ]
     },
     "metadata": {
      "needs_background": "light"
     },
     "output_type": "display_data"
    }
   ],
   "source": [
    "from sklearn.metrics import confusion_matrix\n",
    "\n",
    "y_scores_ = cross_val_predict(sgd_clf, X_train, Y_train, cv=3, method=\"decision_function\")\n",
    "conf_mx = confusion_matrix(Y_train, Y_predictions)\n",
    "plt.matshow(conf_mx, cmap=plt.cm.gray)\n",
    "print(lb.classes_)\n",
    "print(lb.transform(lb.classes_))\n",
    "print(conf_mx)\n",
    "row_sums = conf_mx.sum(axis=1, keepdims=True)\n",
    "norm_conf_mx = conf_mx / row_sums\n",
    "\n",
    "np.fill_diagonal(norm_conf_mx, 0)\n",
    "plt.matshow(norm_conf_mx, cmap=plt.cm.gray)"
   ]
  },
  {
   "cell_type": "code",
   "execution_count": 114,
   "id": "9a95be3f",
   "metadata": {},
   "outputs": [
    {
     "name": "stdout",
     "output_type": "stream",
     "text": [
      "precision_  1.0\n",
      "recall_  1.0\n",
      "f1_score_  1.0\n"
     ]
    }
   ],
   "source": [
    "dt_clf = DecisionTreeClassifier()\n",
    "dt_clf.fit(X_train, Y_train)\n",
    "Y_predictions = evaluate_model(dt_clf)"
   ]
  },
  {
   "cell_type": "code",
   "execution_count": 136,
   "id": "0c7fb27d",
   "metadata": {},
   "outputs": [],
   "source": [
    "X_test = ct.fit_transform(test_data_set.drop([\"Class\"], axis=1))\n",
    "Y_test = lb.transform(test_data_set[\"Class\"].copy())"
   ]
  },
  {
   "cell_type": "code",
   "execution_count": 138,
   "id": "de7056e4",
   "metadata": {
    "scrolled": false
   },
   "outputs": [
    {
     "name": "stdout",
     "output_type": "stream",
     "text": [
      "precision_  0.9683371145641395\n",
      "recall_  0.968334435383146\n",
      "f1_score_  0.968331315958956\n",
      "['BARBUNYA' 'BOMBAY' 'CALI' 'DERMASON' 'HOROZ' 'SEKER' 'SIRA']\n",
      "[0 1 2 3 4 5 6]\n",
      "[[1282    0   25    2    5    1    7]\n",
      " [   0  522    0    0    0    0    0]\n",
      " [  31    0 1579    0   11    2    7]\n",
      " [   1    0    0 3449    3   18   75]\n",
      " [   4    0   13    7 1880    0   24]\n",
      " [   3    0    3   15    0 1988   18]\n",
      " [   8    0    4   83   21   27 2493]]\n"
     ]
    },
    {
     "data": {
      "text/plain": [
       "<matplotlib.image.AxesImage at 0x13ba2f700>"
      ]
     },
     "execution_count": 138,
     "metadata": {},
     "output_type": "execute_result"
    },
    {
     "data": {
      "image/png": "[encoded data removed]",
      "text/plain": [
       "<Figure size 288x288 with 1 Axes>"
      ]
     },
     "metadata": {
      "needs_background": "light"
     },
     "output_type": "display_data"
    },
    {
     "data": {
      "image/png": "[encoded data removed]",
      "text/plain": [
       "<Figure size 288x288 with 1 Axes>"
      ]
     },
     "metadata": {
      "needs_background": "light"
     },
     "output_type": "display_data"
    }
   ],
   "source": [
    "Y_predictions = dt_clf.predict(X_test)\n",
    "evaluate_model(dt_clf)\n",
    "conf_mx = confusion_matrix(Y_test, Y_predictions)\n",
    "plt.matshow(conf_mx, cmap=plt.cm.gray)\n",
    "print(lb.classes_)\n",
    "print(lb.transform(lb.classes_))\n",
    "print(conf_mx)\n",
    "row_sums = conf_mx.sum(axis=1, keepdims=True)\n",
    "norm_conf_mx = conf_mx / row_sums\n",
    "\n",
    "np.fill_diagonal(norm_conf_mx, 0)\n",
    "plt.matshow(norm_conf_mx, cmap=plt.cm.gray)"
   ]
  },
  {
   "cell_type": "code",
   "execution_count": 139,
   "id": "357e9e2d",
   "metadata": {},
   "outputs": [
    {
     "name": "stdout",
     "output_type": "stream",
     "text": [
      "precision_  0.9822399728510085\n",
      "recall_  0.9822202630225553\n",
      "f1_score_  0.9822181871962332\n",
      "precision_  0.9707916081281314\n",
      "recall_  0.9707589449709794\n",
      "f1_score_  0.9707691177119021\n",
      "['BARBUNYA' 'BOMBAY' 'CALI' 'DERMASON' 'HOROZ' 'SEKER' 'SIRA']\n",
      "[0 1 2 3 4 5 6]\n",
      "[[1284    0   24    1    3    2    8]\n",
      " [   0  522    0    0    0    0    0]\n",
      " [  36    0 1579    0    9    1    5]\n",
      " [   1    0    0 3445    4   17   79]\n",
      " [   3    0   16    6 1878    0   25]\n",
      " [   2    0    2   17    0 1983   23]\n",
      " [   8    0    2   86   23   28 2489]]\n"
     ]
    },
    {
     "data": {
      "text/plain": [
       "<matplotlib.image.AxesImage at 0x13bb9a550>"
      ]
     },
     "execution_count": 139,
     "metadata": {},
     "output_type": "execute_result"
    },
    {
     "data": {
      "image/png": "[encoded data removed]",
      "text/plain": [
       "<Figure size 288x288 with 1 Axes>"
      ]
     },
     "metadata": {
      "needs_background": "light"
     },
     "output_type": "display_data"
    },
    {
     "data": {
      "image/png": "[encoded data removed]",
      "text/plain": [
       "<Figure size 288x288 with 1 Axes>"
      ]
     },
     "metadata": {
      "needs_background": "light"
     },
     "output_type": "display_data"
    }
   ],
   "source": [
    "rf_clf = RandomForestClassifier()\n",
    "rf_clf.fit(X_train, Y_train)\n",
    "Y_predictions = evaluate_model(rf_clf)\n",
    "\n",
    "Y_predictions = dt_clf.predict(X_test)\n",
    "evaluate_model(dt_clf)\n",
    "conf_mx = confusion_matrix(Y_test, Y_predictions)\n",
    "plt.matshow(conf_mx, cmap=plt.cm.gray)\n",
    "print(lb.classes_)\n",
    "print(lb.transform(lb.classes_))\n",
    "print(conf_mx)\n",
    "row_sums = conf_mx.sum(axis=1, keepdims=True)\n",
    "norm_conf_mx = conf_mx / row_sums\n",
    "\n",
    "np.fill_diagonal(norm_conf_mx, 0)\n",
    "plt.matshow(norm_conf_mx, cmap=plt.cm.gray)"
   ]
  }
 ],
 "metadata": {
  "kernelspec": {
   "display_name": "Python 3 (ipykernel)",
   "language": "python",
   "name": "python3"
  },
  "language_info": {
   "codemirror_mode": {
    "name": "ipython",
    "version": 3
   },
   "file_extension": ".py",
   "mimetype": "text/x-python",
   "name": "python",
   "nbconvert_exporter": "python",
   "pygments_lexer": "ipython3",
   "version": "3.8.9"
  }
 },
 "nbformat": 4,
 "nbformat_minor": 5
}
