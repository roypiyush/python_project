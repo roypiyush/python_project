{
 "cells": [
  {
   "cell_type": "code",
   "execution_count": 32,
   "id": "7dc760f3",
   "metadata": {},
   "outputs": [],
   "source": [
    "import os\n",
    "import sys\n",
    "import pandas as pd\n",
    "import numpy as np\n",
    "import matplotlib.pyplot as plt\n",
    "from sklearn.metrics import accuracy_score\n",
    "from sklearn.model_selection import train_test_split\n",
    "from sklearn.model_selection import ShuffleSplit\n",
    "from pandas.plotting import scatter_matrix\n",
    "from sklearn.impute import SimpleImputer\n",
    "from sklearn.preprocessing import OneHotEncoder, LabelEncoder, OrdinalEncoder\n",
    "from sklearn.pipeline import Pipeline\n",
    "from sklearn.preprocessing import StandardScaler, MinMaxScaler\n",
    "from sklearn.base import BaseEstimator, TransformerMixin\n",
    "from sklearn.compose import ColumnTransformer\n",
    "from sklearn.linear_model import LinearRegression\n",
    "from sklearn.metrics import mean_squared_error\n",
    "from sklearn.tree import DecisionTreeRegressor\n",
    "from sklearn.model_selection import cross_val_score\n",
    "from sklearn.ensemble import RandomForestRegressor\n",
    "from sklearn.svm import SVC\n",
    "from sklearn.linear_model import SGDClassifier\n",
    "from sklearn.tree import DecisionTreeClassifier\n",
    "from sklearn.ensemble import RandomForestClassifier\n",
    "import seaborn as sb\n",
    "from sklearn.metrics import precision_score, recall_score, f1_score"
   ]
  },
  {
   "cell_type": "code",
   "execution_count": 2,
   "id": "0eb941f0",
   "metadata": {},
   "outputs": [],
   "source": [
    "def load_data(directory, file_name, names=None, header=None, skiprows=0):\n",
    "    return pd.read_excel(os.path.join(directory, file_name), names=names, header=header, skiprows=skiprows, skipinitialspace=True)"
   ]
  },
  {
   "cell_type": "code",
   "execution_count": 3,
   "id": "70ab6f8e",
   "metadata": {},
   "outputs": [],
   "source": [
    "def display_scores(scores):\n",
    "    print(\"Scores:\", scores)\n",
    "    print(\"Mean:\", scores.mean())\n",
    "    print(\"Standard deviation:\", scores.std())"
   ]
  },
  {
   "cell_type": "code",
   "execution_count": 4,
   "id": "f40cf83a",
   "metadata": {},
   "outputs": [],
   "source": [
    "def scoring_using_cross_validation(m, x, y, s='accuracy'):\n",
    "    print(\"************* Start of Cross Validation {} {} *************\".format(s, m))\n",
    "    scores_ = cross_val_score(m, x, y, scoring=\"accuracy\", cv=10)\n",
    "    rmse_scores_ = np.sqrt(scores_)\n",
    "    display_scores(rmse_scores_)\n",
    "    print(\"************* End of Cross Validation {} {}*************\".format(s, m))\n",
    "\n",
    "\n",
    "def print_scores(m, Y_test, Y_predictions):\n",
    "    print(\"************* {} *************\".format(m))\n",
    "    mse_ = mean_squared_error(Y_test, Y_predictions)\n",
    "    print(\"mse \", mse_)\n",
    "    acc_ = accuracy_score(Y_test, Y_predictions)\n",
    "    print(\"acc \", acc_)\n",
    "    print(\"****************************************\")\n"
   ]
  },
  {
   "cell_type": "code",
   "execution_count": 19,
   "id": "c99fec44",
   "metadata": {},
   "outputs": [],
   "source": [
    "base_directory = '~/workspace/personal/datasets/DryBeanDataset'\n",
    "\n",
    "columns = ['Area', 'Perimeter', 'MajorAxisLength', 'MinorAxisLength', 'AspectRation', 'Eccentricity', \n",
    "           'ConvexArea', 'EquivDiameter', 'Extent', 'Solidity', 'roundness', 'Compactness', 'ShapeFactor1',\n",
    "           'ShapeFactor2', 'ShapeFactor3', 'ShapeFactor4']\n"
   ]
  },
  {
   "cell_type": "code",
   "execution_count": 17,
   "id": "b0cc4457",
   "metadata": {},
   "outputs": [
    {
     "name": "stdout",
     "output_type": "stream",
     "text": [
      "['Area', 'Perimeter', 'MajorAxisLength', 'MinorAxisLength', 'AspectRation', 'Eccentricity', 'ConvexArea', 'EquivDiameter', 'Extent', 'Solidity', 'roundness', 'Compactness', 'ShapeFactor1', 'ShapeFactor2', 'ShapeFactor3', 'ShapeFactor4', 'Class']\n"
     ]
    }
   ],
   "source": [
    "dry_bean_df = pd.read_excel(os.path.join(base_directory, 'Dry_Bean_Dataset.xlsx'))\n",
    "print(list(dry_bean_df))"
   ]
  },
  {
   "cell_type": "code",
   "execution_count": 20,
   "id": "fe826039",
   "metadata": {},
   "outputs": [],
   "source": [
    "split = ShuffleSplit(test_size=0.20, random_state=1)\n",
    "train_index, test_index = list(split.split(dry_bean_df[columns]))[0]"
   ]
  },
  {
   "cell_type": "code",
   "execution_count": 27,
   "id": "35471665",
   "metadata": {
    "scrolled": true
   },
   "outputs": [],
   "source": [
    "num_pipeline = Pipeline([\n",
    "        ('std_scaler', StandardScaler()),\n",
    "    ])\n",
    "\n",
    "ct = ColumnTransformer([\n",
    "        (\"norm2\", num_pipeline, columns)\n",
    "], remainder='passthrough')\n",
    "\n",
    "lb = LabelEncoder()\n",
    "\n",
    "X_train_set = dry_bean_df.loc[train_index].drop(['Class'], axis=1)\n",
    "X_test_set = dry_bean_df.loc[test_index].drop(['Class'], axis=1)\n",
    "\n",
    "Y_train_set = dry_bean_df['Class'].copy().loc[train_index]\n",
    "Y_test_set = dry_bean_df['Class'].copy().loc[test_index]"
   ]
  },
  {
   "cell_type": "code",
   "execution_count": 28,
   "id": "5493371a",
   "metadata": {},
   "outputs": [],
   "source": [
    "X_train = ct.fit_transform(X_train_set)\n",
    "Y_train = lb.fit_transform(Y_train_set)\n",
    "\n",
    "X_test = ct.transform(X_train_set)\n",
    "Y_test = lb.transform(Y_train_set)"
   ]
  },
  {
   "cell_type": "code",
   "execution_count": 29,
   "id": "302348b2",
   "metadata": {},
   "outputs": [
    {
     "data": {
      "text/plain": [
       "SGDClassifier()"
      ]
     },
     "execution_count": 29,
     "metadata": {},
     "output_type": "execute_result"
    }
   ],
   "source": [
    "sgd = SGDClassifier()\n",
    "sgd.fit(X_train, Y_train)"
   ]
  },
  {
   "cell_type": "code",
   "execution_count": 41,
   "id": "2a0a6206",
   "metadata": {},
   "outputs": [
    {
     "name": "stdout",
     "output_type": "stream",
     "text": [
      "precision_  0.9147481190647714\n",
      "recall_  0.911462160176341\n",
      "f1_score_  0.9122745316683003\n"
     ]
    }
   ],
   "source": [
    "Y_predictions = sgd.predict(X_test)\n",
    "\n",
    "\n",
    "precision_ = precision_score(Y_test, Y_predictions, average='weighted')\n",
    "print(\"precision_ \", precision_)\n",
    "recall_ = recall_score(Y_test, Y_predictions, average='weighted')\n",
    "print(\"recall_ \", recall_)\n",
    "f1_score_ = f1_score(Y_test, Y_predictions, average='weighted')\n",
    "print(\"f1_score_ \", f1_score_)"
   ]
  },
  {
   "cell_type": "code",
   "execution_count": 46,
   "id": "bbfbb8f0",
   "metadata": {},
   "outputs": [
    {
     "data": {
      "text/plain": [
       "array(['BARBUNYA', 'SIRA', 'DERMASON', 'BARBUNYA', 'CALI', 'SIRA', 'CALI',\n",
       "       'HOROZ', 'DERMASON', 'BARBUNYA', 'HOROZ', 'HOROZ', 'SEKER',\n",
       "       'SEKER', 'SIRA', 'SEKER', 'BOMBAY', 'BARBUNYA', 'DERMASON',\n",
       "       'HOROZ'], dtype=object)"
      ]
     },
     "execution_count": 46,
     "metadata": {},
     "output_type": "execute_result"
    }
   ],
   "source": [
    "lb.inverse_transform(Y_predictions[:20,])"
   ]
  },
  {
   "cell_type": "code",
   "execution_count": 47,
   "id": "208bc59a",
   "metadata": {},
   "outputs": [
    {
     "data": {
      "text/plain": [
       "array(['BARBUNYA', 'SIRA', 'SIRA', 'BARBUNYA', 'CALI', 'SIRA', 'CALI',\n",
       "       'HOROZ', 'DERMASON', 'BARBUNYA', 'HOROZ', 'HOROZ', 'SEKER',\n",
       "       'SEKER', 'CALI', 'SEKER', 'BOMBAY', 'BARBUNYA', 'DERMASON',\n",
       "       'HOROZ'], dtype=object)"
      ]
     },
     "execution_count": 47,
     "metadata": {},
     "output_type": "execute_result"
    }
   ],
   "source": [
    "lb.inverse_transform(Y_test[:20,])"
   ]
  }
 ],
 "metadata": {
  "kernelspec": {
   "display_name": "Python 3 (ipykernel)",
   "language": "python",
   "name": "python3"
  },
  "language_info": {
   "codemirror_mode": {
    "name": "ipython",
    "version": 3
   },
   "file_extension": ".py",
   "mimetype": "text/x-python",
   "name": "python",
   "nbconvert_exporter": "python",
   "pygments_lexer": "ipython3",
   "version": "3.8.9"
  }
 },
 "nbformat": 4,
 "nbformat_minor": 5
}
