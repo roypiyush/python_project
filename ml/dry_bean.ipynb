{
 "cells": [
  {
   "cell_type": "code",
   "execution_count": 13,
   "id": "7dc760f3",
   "metadata": {},
   "outputs": [],
   "source": [
    "import os\n",
    "import sys\n",
    "import pandas as pd\n",
    "import numpy as np\n",
    "import matplotlib.pyplot as plt\n",
    "from sklearn.metrics import accuracy_score\n",
    "from sklearn.model_selection import train_test_split\n",
    "from sklearn.model_selection import ShuffleSplit\n",
    "from pandas.plotting import scatter_matrix\n",
    "from sklearn.impute import SimpleImputer\n",
    "from sklearn.preprocessing import OneHotEncoder, LabelEncoder, OrdinalEncoder\n",
    "from sklearn.pipeline import Pipeline\n",
    "from sklearn.preprocessing import StandardScaler, MinMaxScaler\n",
    "from sklearn.base import BaseEstimator, TransformerMixin\n",
    "from sklearn.compose import ColumnTransformer\n",
    "from sklearn.linear_model import LinearRegression, LogisticRegression\n",
    "from sklearn.metrics import mean_squared_error\n",
    "from sklearn.tree import DecisionTreeRegressor\n",
    "from sklearn.model_selection import cross_val_score, cross_val_predict\n",
    "from sklearn.ensemble import RandomForestRegressor\n",
    "from sklearn.svm import SVC\n",
    "from sklearn.linear_model import SGDClassifier\n",
    "from sklearn.tree import DecisionTreeClassifier\n",
    "from sklearn.ensemble import RandomForestClassifier\n",
    "import seaborn as sb\n",
    "from sklearn.metrics import precision_score, recall_score, f1_score"
   ]
  },
  {
   "cell_type": "code",
   "execution_count": 2,
   "id": "0eb941f0",
   "metadata": {},
   "outputs": [],
   "source": [
    "def load_data(directory, file_name, names=None, header=None, skiprows=0):\n",
    "    return pd.read_excel(os.path.join(directory, file_name), names=names, header=header, skiprows=skiprows, skipinitialspace=True)"
   ]
  },
  {
   "cell_type": "code",
   "execution_count": 3,
   "id": "1c300911",
   "metadata": {},
   "outputs": [],
   "source": [
    "def load_csv_data(directory, file_name, names=None, header=None, skiprows=0, skipinitialspace=True):\n",
    "    return pd.read_csv(os.path.join(directory, file_name), names=names, header=header, skiprows=skiprows, skipinitialspace=skipinitialspace)"
   ]
  },
  {
   "cell_type": "code",
   "execution_count": 77,
   "id": "70ab6f8e",
   "metadata": {},
   "outputs": [],
   "source": [
    "def using_model(model, scoring, cv):\n",
    "    print(\"****************** {} ******************\".format(model))\n",
    "    if scoring is not None:\n",
    "        scores_ = cross_val_score(model, X_train, Y_train, scoring=scoring, cv=cv)\n",
    "        print(\"scoring={} cv={}\".format(scoring, cv), scores_.mean(), scores_.std())\n",
    "    model.fit(X_train, Y_train)\n",
    "    Y_predict = model.predict(X_test)\n",
    "    print(\"accuracy_score=\", accuracy_score(Y_test, Y_predict))\n",
    "    print(\"precision_score=\", precision_score(Y_test, Y_predict, average='micro'))\n",
    "    print(\"recall_score=\", recall_score(Y_test, Y_predict, average='micro'))"
   ]
  },
  {
   "cell_type": "code",
   "execution_count": 28,
   "id": "d1c0930c",
   "metadata": {},
   "outputs": [],
   "source": [
    "def confusion_matrix(model, X_train, Y_train):\n",
    "    from sklearn.metrics import confusion_matrix\n",
    "\n",
    "    y_scores_ = cross_val_predict(model, X_train, Y_train, cv=3, method=\"decision_function\")\n",
    "    model.fit(X_train, Y_train)\n",
    "    Y_predict = model.predict(X_train)\n",
    "    conf_mx = confusion_matrix(Y_train, Y_predict)\n",
    "    plt.matshow(conf_mx, cmap=plt.cm.gray)\n",
    "#     print(\"accuracy_score=\", accuracy_score(Y_train, Y_predict))\n",
    "#     print(\"precision_score=\", precision_score(Y_train, Y_predict))\n",
    "#     print(\"recall_score=\", recall_score(Y_train, Y_predict))\n",
    "    print(lb.classes_)\n",
    "    print(lb.transform(lb.classes_))\n",
    "    print(conf_mx)\n",
    "    row_sums = conf_mx.sum(axis=1, keepdims=True)\n",
    "    norm_conf_mx = conf_mx / row_sums\n",
    "\n",
    "    np.fill_diagonal(norm_conf_mx, 0)\n",
    "    plt.matshow(norm_conf_mx, cmap=plt.cm.gray)"
   ]
  },
  {
   "cell_type": "code",
   "execution_count": 6,
   "id": "c99fec44",
   "metadata": {},
   "outputs": [],
   "source": [
    "base_directory = '~/workspace/personal/datasets/DryBeanDataset'\n",
    "\n",
    "columns = ['Area', 'Perimeter', 'MajorAxisLength', 'MinorAxisLength', 'AspectRation', 'Eccentricity', \n",
    "           'ConvexArea', 'EquivDiameter', 'Extent', 'Solidity', 'roundness', 'Compactness', 'ShapeFactor1',\n",
    "           'ShapeFactor2', 'ShapeFactor3', 'ShapeFactor4']\n"
   ]
  },
  {
   "cell_type": "code",
   "execution_count": 7,
   "id": "b0cc4457",
   "metadata": {},
   "outputs": [
    {
     "name": "stdout",
     "output_type": "stream",
     "text": [
      "['Area', 'Perimeter', 'MajorAxisLength', 'MinorAxisLength', 'AspectRation', 'Eccentricity', 'ConvexArea', 'EquivDiameter', 'Extent', 'Solidity', 'roundness', 'Compactness', 'ShapeFactor1', 'ShapeFactor2', 'ShapeFactor3', 'ShapeFactor4', 'Class']\n"
     ]
    }
   ],
   "source": [
    "dry_bean_df = pd.read_excel(os.path.join(base_directory, 'Dry_Bean_Dataset.xlsx'))\n",
    "print(list(dry_bean_df))"
   ]
  },
  {
   "cell_type": "code",
   "execution_count": 17,
   "id": "35471665",
   "metadata": {
    "scrolled": true
   },
   "outputs": [],
   "source": [
    "num_pipeline = Pipeline([\n",
    "        ('std_scaler', StandardScaler()),\n",
    "    ])\n",
    "\n",
    "ct = ColumnTransformer([\n",
    "        (\"norm2\", num_pipeline, columns)\n",
    "])\n",
    "\n",
    "lb = LabelEncoder()\n",
    "\n",
    "X_train_set = dry_bean_df.drop(['Class'], axis=1)\n",
    "Y_train_set = dry_bean_df['Class'].copy()\n",
    "\n",
    "X_train = ct.fit_transform(X_train_set)\n",
    "Y_train = lb.fit_transform(Y_train_set)"
   ]
  },
  {
   "cell_type": "markdown",
   "id": "d8fa72c7",
   "metadata": {},
   "source": [
    "### Cross Validate with decision function"
   ]
  },
  {
   "cell_type": "code",
   "execution_count": 29,
   "id": "8becf655",
   "metadata": {
    "scrolled": false
   },
   "outputs": [
    {
     "name": "stdout",
     "output_type": "stream",
     "text": [
      "['BARBUNYA' 'BOMBAY' 'CALI' 'DERMASON' 'HOROZ' 'SEKER' 'SIRA']\n",
      "[0 1 2 3 4 5 6]\n",
      "[[1199    0   73    0    4    9   37]\n",
      " [   0  522    0    0    0    0    0]\n",
      " [  45    0 1538    0   26    4   17]\n",
      " [   2    0    0 3253    6   51  234]\n",
      " [   4    0   26   17 1843    0   38]\n",
      " [  19    0    1   27    1 1918   61]\n",
      " [   4    0    7  229   48   37 2311]]\n"
     ]
    },
    {
     "data": {
      "image/png": "[encoded data removed]",
      "text/plain": [
       "<Figure size 288x288 with 1 Axes>"
      ]
     },
     "metadata": {
      "needs_background": "light"
     },
     "output_type": "display_data"
    },
    {
     "data": {
      "image/png": "[encoded data removed]",
      "text/plain": [
       "<Figure size 288x288 with 1 Axes>"
      ]
     },
     "metadata": {
      "needs_background": "light"
     },
     "output_type": "display_data"
    }
   ],
   "source": [
    "confusion_matrix(LogisticRegression(max_iter=500, multi_class=\"multinomial\"), X_train, Y_train)"
   ]
  },
  {
   "cell_type": "code",
   "execution_count": 38,
   "id": "e20d93cf",
   "metadata": {
    "scrolled": true
   },
   "outputs": [
    {
     "name": "stdout",
     "output_type": "stream",
     "text": [
      "****************** LogisticRegression(max_iter=500, multi_class='multinomial') ******************\n",
      "scoring=accuracy cv=10 0.8953974306272597 0.13410448264510003\n",
      "accuracy_score= 0.9245463228271251\n",
      "precision_score= 0.9245463228271251\n",
      "recall_score= 0.9245463228271251\n"
     ]
    }
   ],
   "source": [
    "using_model(LogisticRegression(max_iter=500, multi_class=\"multinomial\"), 'accuracy', cv=10)"
   ]
  },
  {
   "cell_type": "code",
   "execution_count": 76,
   "id": "010d0e2a",
   "metadata": {},
   "outputs": [],
   "source": [
    "bean_df = load_csv_data('~/workspace/personal/datasets/DryBeanDataset', 'Dry_Bean_Dataset_testing.csv', names=columns + ['Class'], skiprows=1)\n",
    "\n",
    "X_test = ct.transform(bean_df.drop('Class', axis=1))\n",
    "Y_test = lb.transform(bean_df['Class'])"
   ]
  },
  {
   "cell_type": "markdown",
   "id": "cc371b3e",
   "metadata": {},
   "source": [
    "### Overfitting "
   ]
  },
  {
   "cell_type": "code",
   "execution_count": 78,
   "id": "98de49bc",
   "metadata": {},
   "outputs": [
    {
     "name": "stdout",
     "output_type": "stream",
     "text": [
      "****************** DecisionTreeClassifier() ******************\n",
      "scoring=accuracy cv=10 0.6884306477594324 0.1640293404183299\n",
      "accuracy_score= 1.0\n",
      "precision_score= 1.0\n",
      "recall_score= 1.0\n"
     ]
    }
   ],
   "source": [
    "using_model(DecisionTreeClassifier(), 'accuracy', cv=10)"
   ]
  },
  {
   "cell_type": "code",
   "execution_count": 81,
   "id": "338c8d03",
   "metadata": {},
   "outputs": [
    {
     "name": "stdout",
     "output_type": "stream",
     "text": [
      "****************** RandomForestClassifier() ******************\n",
      "scoring=accuracy cv=10 0.728841948079552 0.1905631777108822\n",
      "accuracy_score= 1.0\n",
      "precision_score= 1.0\n",
      "recall_score= 1.0\n"
     ]
    }
   ],
   "source": [
    "using_model(RandomForestClassifier(), 'accuracy', cv=10)"
   ]
  },
  {
   "cell_type": "code",
   "execution_count": 83,
   "id": "98257deb",
   "metadata": {},
   "outputs": [
    {
     "name": "stdout",
     "output_type": "stream",
     "text": [
      "****************** SGDClassifier() ******************\n",
      "scoring=accuracy cv=10 0.897822388090298 0.12786903724569432\n",
      "accuracy_score= 0.9144074645507311\n",
      "precision_score= 0.9144074645507311\n",
      "recall_score= 0.9144074645507311\n"
     ]
    }
   ],
   "source": [
    "using_model(SGDClassifier(), 'accuracy', cv=10)"
   ]
  }
 ],
 "metadata": {
  "kernelspec": {
   "display_name": "Python 3 (ipykernel)",
   "language": "python",
   "name": "python3"
  },
  "language_info": {
   "codemirror_mode": {
    "name": "ipython",
    "version": 3
   },
   "file_extension": ".py",
   "mimetype": "text/x-python",
   "name": "python",
   "nbconvert_exporter": "python",
   "pygments_lexer": "ipython3",
   "version": "3.8.9"
  }
 },
 "nbformat": 4,
 "nbformat_minor": 5
}
